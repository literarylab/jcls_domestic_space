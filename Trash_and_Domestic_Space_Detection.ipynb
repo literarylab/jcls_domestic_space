{
 "cells": [
  {
   "cell_type": "markdown",
   "id": "929681943370421d",
   "metadata": {
    "collapsed": false,
    "jupyter": {
     "outputs_hidden": false
    }
   },
   "source": [
    "# Modelling Domestic Space in English and Irish Fiction\n",
    "## English USE/BERT Model for predicting the probability of a segment set in domestic space"
   ]
  },
  {
   "cell_type": "markdown",
   "id": "683a07a38df2e13a",
   "metadata": {
    "collapsed": false,
    "jupyter": {
     "outputs_hidden": false
    }
   },
   "source": [
    "This Jupyter notebook takes as input an Excel sheet with manually labeled data for the fine-tuning of the Keras English uncased BERT model for the classification task of domestic space detection. The process is divided into two steps: the first is the classification for garbage and its exclusion from a second set, which is then classified into the two classes \"domestic\" and \"other\"."
   ]
  },
  {
   "cell_type": "code",
   "execution_count": 46,
   "id": "0c92d707-913a-4149-a0b3-b188b5fb1347",
   "metadata": {
    "ExecuteTime": {
     "end_time": "2025-02-03T21:37:42.408802Z",
     "start_time": "2025-02-03T21:37:42.406923Z"
    }
   },
   "outputs": [],
   "source": [
    "import os\n",
    "os.environ['TF_USE_LEGACY_KERAS']='1'"
   ]
  },
  {
   "cell_type": "code",
   "execution_count": 47,
   "id": "ffab36df",
   "metadata": {
    "ExecuteTime": {
     "end_time": "2025-02-03T21:37:42.777816Z",
     "start_time": "2025-02-03T21:37:42.728480Z"
    }
   },
   "outputs": [
    {
     "name": "stderr",
     "output_type": "stream",
     "text": [
      "/opt/anaconda3/lib/python3.11/site-packages/openpyxl/styles/stylesheet.py:226: UserWarning: Workbook contains no default style, apply openpyxl's default\n",
      "  warn(\"Workbook contains no default style, apply openpyxl's default\")\n"
     ]
    }
   ],
   "source": [
    "#MODEL 1: TRASH DETECTION\n",
    "#read in the training data\n",
    "#ignore the warning \"(\"Workbook contains no default style, apply openpyxl's default\")\"\n",
    "\n",
    "import pandas as pd\n",
    "df_trash=pd.read_excel('/Users/.../Domestic_Space_Project/DataForClassifier/TrainingDataForTrashDetector.xlsx')"
   ]
  },
  {
   "cell_type": "code",
   "execution_count": 48,
   "id": "af2e34e1",
   "metadata": {
    "ExecuteTime": {
     "end_time": "2025-02-03T21:37:43.406426Z",
     "start_time": "2025-02-03T21:37:43.402937Z"
    },
    "scrolled": true
   },
   "outputs": [
    {
     "data": {
      "text/html": [
       "<div>\n",
       "<style scoped>\n",
       "    .dataframe tbody tr th:only-of-type {\n",
       "        vertical-align: middle;\n",
       "    }\n",
       "\n",
       "    .dataframe tbody tr th {\n",
       "        vertical-align: top;\n",
       "    }\n",
       "\n",
       "    .dataframe thead th {\n",
       "        text-align: right;\n",
       "    }\n",
       "</style>\n",
       "<table border=\"1\" class=\"dataframe\">\n",
       "  <thead>\n",
       "    <tr style=\"text-align: right;\">\n",
       "      <th></th>\n",
       "      <th>Passage</th>\n",
       "      <th>Tag</th>\n",
       "    </tr>\n",
       "  </thead>\n",
       "  <tbody>\n",
       "    <tr>\n",
       "      <th>0</th>\n",
       "      <td>Was he ?\" said Lilly. \" I didn't see hir n!\" \"...</td>\n",
       "      <td>not_trash</td>\n",
       "    </tr>\n",
       "    <tr>\n",
       "      <th>1</th>\n",
       "      <td>Yhatever he had done, it was to establish the ...</td>\n",
       "      <td>not_trash</td>\n",
       "    </tr>\n",
       "    <tr>\n",
       "      <th>2</th>\n",
       "      <td>‚Äö√Ñ¬¢-You will find/' said Brerewood, handin...</td>\n",
       "      <td>not_trash</td>\n",
       "    </tr>\n",
       "    <tr>\n",
       "      <th>3</th>\n",
       "      <td>\"' I !\" exclaimed John in alarm (he might lose...</td>\n",
       "      <td>not_trash</td>\n",
       "    </tr>\n",
       "    <tr>\n",
       "      <th>4</th>\n",
       "      <td>I only know it would be a bad business for him...</td>\n",
       "      <td>not_trash</td>\n",
       "    </tr>\n",
       "  </tbody>\n",
       "</table>\n",
       "</div>"
      ],
      "text/plain": [
       "                                             Passage        Tag\n",
       "0  Was he ?\" said Lilly. \" I didn't see hir n!\" \"...  not_trash\n",
       "1  Yhatever he had done, it was to establish the ...  not_trash\n",
       "2  ‚Äö√Ñ¬¢-You will find/' said Brerewood, handin...  not_trash\n",
       "3  \"' I !\" exclaimed John in alarm (he might lose...  not_trash\n",
       "4  I only know it would be a bad business for him...  not_trash"
      ]
     },
     "execution_count": 48,
     "metadata": {},
     "output_type": "execute_result"
    }
   ],
   "source": [
    "#look at the top of the table\n",
    "df_trash.head()"
   ]
  },
  {
   "cell_type": "code",
   "execution_count": 49,
   "id": "21ed6497",
   "metadata": {
    "ExecuteTime": {
     "end_time": "2025-02-03T21:37:44.110318Z",
     "start_time": "2025-02-03T21:37:44.106488Z"
    }
   },
   "outputs": [],
   "source": [
    "#translate text labels to numeric\n",
    "df_trash['Labels']=df_trash['Tag'].map({'not_trash': 0, 'trash':1})\n",
    "#drop the \"Tag\" column\n",
    "df_trash=df_trash.drop([\"Tag\"], axis=1)"
   ]
  },
  {
   "cell_type": "code",
   "execution_count": 50,
   "id": "3502d009",
   "metadata": {
    "ExecuteTime": {
     "end_time": "2025-02-03T21:37:44.732826Z",
     "start_time": "2025-02-03T21:37:44.730892Z"
    }
   },
   "outputs": [],
   "source": [
    "#import libraries etc\n",
    "import numpy as np\n",
    "import matplotlib.pyplot as plt\n",
    "plt.style.use('ggplot')"
   ]
  },
  {
   "cell_type": "code",
   "execution_count": 51,
   "id": "e680428f",
   "metadata": {
    "ExecuteTime": {
     "end_time": "2025-02-03T21:37:45.378629Z",
     "start_time": "2025-02-03T21:37:45.376407Z"
    }
   },
   "outputs": [],
   "source": [
    "#define number of classes (more important if you have multiple)\n",
    "num_classes = len(df_trash[\"Labels\"].value_counts())"
   ]
  },
  {
   "cell_type": "code",
   "execution_count": 52,
   "id": "467ce9cd",
   "metadata": {
    "ExecuteTime": {
     "end_time": "2025-02-03T21:37:46.062619Z",
     "start_time": "2025-02-03T21:37:46.060860Z"
    }
   },
   "outputs": [],
   "source": [
    "#load tensorflow and data division\n",
    "#!pip install tensorflow #if needed\n",
    "import tensorflow as tf\n",
    "from sklearn.model_selection import train_test_split"
   ]
  },
  {
   "cell_type": "code",
   "execution_count": 53,
   "id": "0a54254c",
   "metadata": {
    "ExecuteTime": {
     "end_time": "2025-02-03T21:37:46.795414Z",
     "start_time": "2025-02-03T21:37:46.791738Z"
    }
   },
   "outputs": [],
   "source": [
    "#turn numeric labels into categorical variables\n",
    "y=tf.keras.utils.to_categorical(df_trash[\"Labels\"].values, num_classes=num_classes)\n",
    "\n",
    "#split sample into training and test sets\n",
    "x_train, x_test, y_train, y_test=train_test_split(df_trash['Passage'], y, test_size=0.25)"
   ]
  },
  {
   "cell_type": "code",
   "execution_count": 54,
   "id": "beca3434",
   "metadata": {
    "ExecuteTime": {
     "end_time": "2025-02-03T21:37:51.319915Z",
     "start_time": "2025-02-03T21:37:47.492818Z"
    }
   },
   "outputs": [],
   "source": [
    "#import Bert Models\n",
    "import tensorflow_hub as hub\n",
    "import tensorflow_text as text\n",
    "\n",
    "#create preprocessor and encoder/bert models\n",
    "#preprocessor = hub.load('https://tfhub.dev/tensorflow/bert_en_uncased_preprocess/3')\n",
    "#encoder = hub.load('https://tfhub.dev/google/experts/bert/wiki_books/mnli/2')\n",
    "\n",
    "preprocessor = hub.KerasLayer(\"https://tfhub.dev/google/universal-sentence-encoder-cmlm/multilingual-preprocess/2\")\n",
    "encoder = hub.KerasLayer(\"https://tfhub.dev/google/universal-sentence-encoder-cmlm/multilingual-base/1\")"
   ]
  },
  {
   "cell_type": "code",
   "execution_count": 55,
   "id": "a2db17bb",
   "metadata": {
    "ExecuteTime": {
     "end_time": "2025-02-03T21:37:52.050314Z",
     "start_time": "2025-02-03T21:37:51.935840Z"
    }
   },
   "outputs": [],
   "source": [
    "#create model parameters\n",
    "i = tf.keras.layers.Input(shape=(), dtype=tf.string, name='text')\n",
    "x = preprocessor(i)\n",
    "x = encoder(x)\n",
    "x = tf.keras.layers.Dropout(0.2, name=\"dropout\")(x['pooled_output'])\n",
    "x = tf.keras.layers.Dense(num_classes, activation='softmax', name=\"output\")(x)\n",
    "model_trash = tf.keras.Model(i, x)"
   ]
  },
  {
   "cell_type": "code",
   "execution_count": 56,
   "id": "adc3979d",
   "metadata": {
    "ExecuteTime": {
     "end_time": "2025-02-03T21:37:53.276115Z",
     "start_time": "2025-02-03T21:37:53.265311Z"
    }
   },
   "outputs": [],
   "source": [
    "#create functions for evaluating the model\n",
    "import tensorflow.keras.backend as K\n",
    "\n",
    "def balanced_recall(y_true, y_pred):\n",
    "\t\"\"\"This function calculates the balanced recall metric recall = TP /(TP+FN)\"\"\"\n",
    "\trecall_by_class=0\n",
    "\tfor i in range(y_pred.shape[1]):\n",
    "\t\ty_pred_class=y_pred[:, i]\n",
    "\t\ty_true_class=y_true[:, i]\n",
    "\t\ttrue_positives=K.sum(K.round(K.clip(y_true_class * y_pred_class, 0, 1)))\n",
    "\t\tpossible_positives=K.sum(K.round(K.clip(y_true_class, 0, 1)))\n",
    "\t\trecall = true_positives / (possible_positives +K.epsilon())\n",
    "\t\trecall_by_class = recall_by_class + recall\n",
    "\treturn recall_by_class / y_pred.shape[1]\n",
    "\n",
    "def balanced_precision(y_true, y_pred):\n",
    "\t\"\"\"This function calculates the balanced precision metric precision = TP / (TP+FP)\"\"\"\n",
    "\tprecision_by_class=0\n",
    "\tfor i in range(y_pred.shape[1]):\n",
    "\t\ty_pred_class = y_pred[:, i]\n",
    "\t\ty_true_class = y_true[:, i]\n",
    "\t\ttrue_positives = K.sum(K.round(K.clip(y_true_class * y_pred_class, 0, 1)))\n",
    "\t\tpredicted_positives = K.sum(K.round(K.clip(y_pred_class, 0, 1)))\n",
    "\t\tprecision = true_positives / (predicted_positives + K.epsilon())\n",
    "\t\tprecision_by_class = precision_by_class + precision\n",
    "\treturn precision_by_class / y_pred.shape[1]\n",
    "\n",
    "\n",
    "def balanced_f1_score(y_true, y_pred):\n",
    "\t\"\"\"This function calculates the F1 score metric\"\"\"\n",
    "\tprecision = balanced_precision(y_true, y_pred)\n",
    "\trecall = balanced_recall(y_true, y_pred)\n",
    "\treturn 2 * ((precision * recall) / (precision + recall + K.epsilon()))"
   ]
  },
  {
   "cell_type": "code",
   "execution_count": 12,
   "id": "8e7ed604",
   "metadata": {},
   "outputs": [
    {
     "name": "stdout",
     "output_type": "stream",
     "text": [
      "Epoch 1/20\n",
      "53/53 [==============================] - 111s 2s/step - loss: 0.2457 - accuracy: 0.9091 - balanced_recall: 0.9073 - balanced_precision: 0.9076 - balanced_f1_score: 0.9059 - val_loss: 0.0448 - val_accuracy: 1.0000 - val_balanced_recall: 1.0000 - val_balanced_precision: 1.0000 - val_balanced_f1_score: 1.0000\n",
      "Epoch 2/20\n",
      "53/53 [==============================] - 108s 2s/step - loss: 0.0335 - accuracy: 1.0000 - balanced_recall: 1.0000 - balanced_precision: 1.0000 - balanced_f1_score: 1.0000 - val_loss: 0.0199 - val_accuracy: 1.0000 - val_balanced_recall: 1.0000 - val_balanced_precision: 1.0000 - val_balanced_f1_score: 1.0000\n",
      "Epoch 3/20\n",
      "53/53 [==============================] - 107s 2s/step - loss: 0.0177 - accuracy: 1.0000 - balanced_recall: 1.0000 - balanced_precision: 1.0000 - balanced_f1_score: 1.0000 - val_loss: 0.0121 - val_accuracy: 1.0000 - val_balanced_recall: 1.0000 - val_balanced_precision: 1.0000 - val_balanced_f1_score: 1.0000\n",
      "Epoch 4/20\n",
      "53/53 [==============================] - 106s 2s/step - loss: 0.0117 - accuracy: 1.0000 - balanced_recall: 1.0000 - balanced_precision: 1.0000 - balanced_f1_score: 1.0000 - val_loss: 0.0085 - val_accuracy: 1.0000 - val_balanced_recall: 1.0000 - val_balanced_precision: 1.0000 - val_balanced_f1_score: 1.0000\n",
      "Epoch 5/20\n",
      "53/53 [==============================] - 109s 2s/step - loss: 0.0083 - accuracy: 1.0000 - balanced_recall: 1.0000 - balanced_precision: 1.0000 - balanced_f1_score: 1.0000 - val_loss: 0.0064 - val_accuracy: 1.0000 - val_balanced_recall: 1.0000 - val_balanced_precision: 1.0000 - val_balanced_f1_score: 1.0000\n",
      "Epoch 6/20\n",
      "53/53 [==============================] - 109s 2s/step - loss: 0.0062 - accuracy: 1.0000 - balanced_recall: 1.0000 - balanced_precision: 1.0000 - balanced_f1_score: 1.0000 - val_loss: 0.0051 - val_accuracy: 1.0000 - val_balanced_recall: 1.0000 - val_balanced_precision: 1.0000 - val_balanced_f1_score: 1.0000\n",
      "Epoch 7/20\n",
      "53/53 [==============================] - 110s 2s/step - loss: 0.0050 - accuracy: 1.0000 - balanced_recall: 1.0000 - balanced_precision: 1.0000 - balanced_f1_score: 1.0000 - val_loss: 0.0042 - val_accuracy: 1.0000 - val_balanced_recall: 1.0000 - val_balanced_precision: 1.0000 - val_balanced_f1_score: 1.0000\n",
      "Epoch 8/20\n",
      "53/53 [==============================] - 112s 2s/step - loss: 0.0041 - accuracy: 1.0000 - balanced_recall: 1.0000 - balanced_precision: 1.0000 - balanced_f1_score: 1.0000 - val_loss: 0.0035 - val_accuracy: 1.0000 - val_balanced_recall: 1.0000 - val_balanced_precision: 1.0000 - val_balanced_f1_score: 1.0000\n",
      "Epoch 9/20\n",
      "53/53 [==============================] - 114s 2s/step - loss: 0.0034 - accuracy: 1.0000 - balanced_recall: 1.0000 - balanced_precision: 1.0000 - balanced_f1_score: 1.0000 - val_loss: 0.0030 - val_accuracy: 1.0000 - val_balanced_recall: 1.0000 - val_balanced_precision: 1.0000 - val_balanced_f1_score: 1.0000\n",
      "Epoch 10/20\n",
      "53/53 [==============================] - 118s 2s/step - loss: 0.0030 - accuracy: 1.0000 - balanced_recall: 1.0000 - balanced_precision: 1.0000 - balanced_f1_score: 1.0000 - val_loss: 0.0026 - val_accuracy: 1.0000 - val_balanced_recall: 1.0000 - val_balanced_precision: 1.0000 - val_balanced_f1_score: 1.0000\n",
      "Epoch 11/20\n",
      "53/53 [==============================] - 115s 2s/step - loss: 0.0027 - accuracy: 1.0000 - balanced_recall: 1.0000 - balanced_precision: 1.0000 - balanced_f1_score: 1.0000 - val_loss: 0.0023 - val_accuracy: 1.0000 - val_balanced_recall: 1.0000 - val_balanced_precision: 1.0000 - val_balanced_f1_score: 1.0000\n",
      "Epoch 12/20\n",
      "53/53 [==============================] - 113s 2s/step - loss: 0.0023 - accuracy: 1.0000 - balanced_recall: 1.0000 - balanced_precision: 1.0000 - balanced_f1_score: 1.0000 - val_loss: 0.0021 - val_accuracy: 1.0000 - val_balanced_recall: 1.0000 - val_balanced_precision: 1.0000 - val_balanced_f1_score: 1.0000\n",
      "Epoch 13/20\n",
      "53/53 [==============================] - 112s 2s/step - loss: 0.0020 - accuracy: 1.0000 - balanced_recall: 1.0000 - balanced_precision: 1.0000 - balanced_f1_score: 1.0000 - val_loss: 0.0019 - val_accuracy: 1.0000 - val_balanced_recall: 1.0000 - val_balanced_precision: 1.0000 - val_balanced_f1_score: 1.0000\n",
      "Epoch 14/20\n",
      "53/53 [==============================] - 114s 2s/step - loss: 0.0019 - accuracy: 1.0000 - balanced_recall: 1.0000 - balanced_precision: 1.0000 - balanced_f1_score: 1.0000 - val_loss: 0.0017 - val_accuracy: 1.0000 - val_balanced_recall: 1.0000 - val_balanced_precision: 1.0000 - val_balanced_f1_score: 1.0000\n",
      "Epoch 15/20\n",
      "53/53 [==============================] - 112s 2s/step - loss: 0.0017 - accuracy: 1.0000 - balanced_recall: 1.0000 - balanced_precision: 1.0000 - balanced_f1_score: 1.0000 - val_loss: 0.0015 - val_accuracy: 1.0000 - val_balanced_recall: 1.0000 - val_balanced_precision: 1.0000 - val_balanced_f1_score: 1.0000\n",
      "Epoch 16/20\n",
      "53/53 [==============================] - 112s 2s/step - loss: 0.0015 - accuracy: 1.0000 - balanced_recall: 1.0000 - balanced_precision: 1.0000 - balanced_f1_score: 1.0000 - val_loss: 0.0014 - val_accuracy: 1.0000 - val_balanced_recall: 1.0000 - val_balanced_precision: 1.0000 - val_balanced_f1_score: 1.0000\n",
      "Epoch 17/20\n",
      "53/53 [==============================] - 111s 2s/step - loss: 0.0014 - accuracy: 1.0000 - balanced_recall: 1.0000 - balanced_precision: 1.0000 - balanced_f1_score: 1.0000 - val_loss: 0.0013 - val_accuracy: 1.0000 - val_balanced_recall: 1.0000 - val_balanced_precision: 1.0000 - val_balanced_f1_score: 1.0000\n",
      "Epoch 18/20\n",
      "53/53 [==============================] - 113s 2s/step - loss: 0.0013 - accuracy: 1.0000 - balanced_recall: 1.0000 - balanced_precision: 1.0000 - balanced_f1_score: 1.0000 - val_loss: 0.0012 - val_accuracy: 1.0000 - val_balanced_recall: 1.0000 - val_balanced_precision: 1.0000 - val_balanced_f1_score: 1.0000\n",
      "Epoch 19/20\n",
      "53/53 [==============================] - 114s 2s/step - loss: 0.0012 - accuracy: 1.0000 - balanced_recall: 1.0000 - balanced_precision: 1.0000 - balanced_f1_score: 1.0000 - val_loss: 0.0011 - val_accuracy: 1.0000 - val_balanced_recall: 1.0000 - val_balanced_precision: 1.0000 - val_balanced_f1_score: 1.0000\n",
      "Epoch 20/20\n",
      "53/53 [==============================] - 113s 2s/step - loss: 0.0012 - accuracy: 1.0000 - balanced_recall: 1.0000 - balanced_precision: 1.0000 - balanced_f1_score: 1.0000 - val_loss: 0.0010 - val_accuracy: 1.0000 - val_balanced_recall: 1.0000 - val_balanced_precision: 1.0000 - val_balanced_f1_score: 1.0000\n"
     ]
    }
   ],
   "source": [
    "#run the model\n",
    "\n",
    "n_epochs = 20\n",
    "METRICS = [ tf.keras.metrics.CategoricalAccuracy(name=\"accuracy\"), balanced_recall, balanced_precision, balanced_f1_score]\n",
    "\n",
    "earlystop_callback = tf.keras.callbacks.EarlyStopping(monitor = \"val_loss\", patience = 3, restore_best_weights = True)\n",
    "\n",
    "model_trash.compile(optimizer = \"adam\", loss = \"categorical_crossentropy\",metrics = METRICS)\n",
    "\n",
    "model_trash_fit = model_trash.fit(x_train, y_train, epochs = n_epochs, validation_data = (x_test, y_test), callbacks = [earlystop_callback])"
   ]
  },
  {
   "cell_type": "code",
   "execution_count": 13,
   "id": "b3550a89",
   "metadata": {},
   "outputs": [
    {
     "data": {
      "image/png": "[encoded data removed]",
      "text/plain": [
       "<Figure size 3000x500 with 5 Axes>"
      ]
     },
     "metadata": {},
     "output_type": "display_data"
    }
   ],
   "source": [
    "#plot change in accuracy scores over epochs\n",
    "x = list(range(1, 20+1))#has to be adapted to the actual number of epochs +1\n",
    "metric_list = list(model_trash_fit.history.keys())\n",
    "num_metrics = int(len(metric_list)/2)\n",
    "\n",
    "fig, ax = plt.subplots(nrows=1, ncols=num_metrics, figsize=(30, 5))\n",
    "\n",
    "for i in range(0, num_metrics):\n",
    "    ax[i].plot(x, model_trash_fit.history[metric_list[i]], marker=\"o\", label=metric_list[i].replace(\"_\", \" \"))\n",
    "    ax[i].plot(x, model_trash_fit.history[metric_list[i+num_metrics]], marker=\"o\", label=metric_list[i+num_metrics].replace(\"_\", \" \"))\n",
    "    ax[i].set_xlabel(\"epochs\",fontsize=14)\n",
    "    ax[i].set_title(metric_list[i].replace(\"_\", \" \"),fontsize=20)\n",
    "    ax[i].legend(loc=\"lower left\")\n",
    "    #ax[i].set_ylim([0,1])\n",
    "    \n",
    "fig.savefig('/Users/.../Domestic_Space_Project/DataForClassifier/ClassificationSuccess_TrashDetection.pdf')\n",
    "\n"
   ]
  },
  {
   "cell_type": "code",
   "execution_count": 50,
   "id": "a0a6796c",
   "metadata": {},
   "outputs": [
    {
     "name": "stdout",
     "output_type": "stream",
     "text": [
      "Model: \"model\"\n",
      "__________________________________________________________________________________________________\n",
      " Layer (type)                   Output Shape         Param #     Connected to                     \n",
      "==================================================================================================\n",
      " text (InputLayer)              [(None,)]            0           []                               \n",
      "                                                                                                  \n",
      " keras_layer (KerasLayer)       {'input_type_ids':   0           ['text[0][0]']                   \n",
      "                                (None, 128),                                                      \n",
      "                                 'input_mask': (Non                                               \n",
      "                                e, 128),                                                          \n",
      "                                 'input_word_ids':                                                \n",
      "                                (None, 128)}                                                      \n",
      "                                                                                                  \n",
      " keras_layer_1 (KerasLayer)     {'pooled_output': (  470926849   ['keras_layer[0][0]',            \n",
      "                                None, 768),                       'keras_layer[0][1]',            \n",
      "                                 'sequence_output':               'keras_layer[0][2]']            \n",
      "                                 (None, 128, 768),                                                \n",
      "                                 'default': (None,                                                \n",
      "                                768)}                                                             \n",
      "                                                                                                  \n",
      " dropout (Dropout)              (None, 768)          0           ['keras_layer_1[0][1]']          \n",
      "                                                                                                  \n",
      " output (Dense)                 (None, 2)            1538        ['dropout[0][0]']                \n",
      "                                                                                                  \n",
      "==================================================================================================\n",
      "Total params: 470,928,387\n",
      "Trainable params: 1,538\n",
      "Non-trainable params: 470,926,849\n",
      "__________________________________________________________________________________________________\n"
     ]
    }
   ],
   "source": [
    "model_trash.summary()\n"
   ]
  },
  {
   "cell_type": "markdown",
   "id": "faf4aa7520d7eebc",
   "metadata": {
    "collapsed": false,
    "jupyter": {
     "outputs_hidden": false
    }
   },
   "source": [
    "## Save the trash detector model for reuse "
   ]
  },
  {
   "cell_type": "code",
   "execution_count": null,
   "id": "295e587c8682a67c",
   "metadata": {
    "collapsed": false,
    "jupyter": {
     "outputs_hidden": false
    }
   },
   "outputs": [],
   "source": [
    "model_trash.save(\"/Users/.../Domestic_Space_Project/DataForClassifier/TwoModelSolution/TrashDetectorModel.keras\")"
   ]
  },
  {
   "cell_type": "code",
   "execution_count": 1,
   "id": "a05ca03c",
   "metadata": {
    "ExecuteTime": {
     "end_time": "2025-02-05T22:51:07.733863Z",
     "start_time": "2025-02-05T22:51:07.392081Z"
    }
   },
   "outputs": [],
   "source": [
    "#TO LOAD THE SAVED TRASH DETECTION MODEL\n",
    "reloaded_trashdetector_model = tf.keras.models.load_model(\"/Users/.../Domestic_Space_Project/DataForClassifier/TwoModelSolution/TrashDetectorModel.keras\")\n",
    "\n",
    "\n",
    "# try saving the weights separately to reload them faster (Tensorflow help page)\n",
    "# or save it as HDF5 format \n",
    "# https://www.tensorflow.org/tutorials/keras/save_and_load "
   ]
  },
  {
   "cell_type": "markdown",
   "id": "c83db53832cb6106",
   "metadata": {
    "collapsed": false,
    "jupyter": {
     "outputs_hidden": false
    }
   },
   "source": [
    "# Train the Domestic Space Detector Model"
   ]
  },
  {
   "cell_type": "code",
   "execution_count": 57,
   "id": "7fda8c6f",
   "metadata": {
    "ExecuteTime": {
     "end_time": "2025-02-03T21:38:01.217617Z",
     "start_time": "2025-02-03T21:38:01.182774Z"
    }
   },
   "outputs": [
    {
     "name": "stderr",
     "output_type": "stream",
     "text": [
      "/opt/anaconda3/lib/python3.11/site-packages/openpyxl/styles/stylesheet.py:226: UserWarning: Workbook contains no default style, apply openpyxl's default\n",
      "  warn(\"Workbook contains no default style, apply openpyxl's default\")\n"
     ]
    }
   ],
   "source": [
    "#MODEL 2: DOMESTIC SPACE DETECTION\n",
    "#Read in the training data, you can ignore the warning \"(\"Workbook contains no default style, apply openpyxl's default\")\"\n",
    "import pandas as pd\n",
    "df_domestic=pd.read_excel('/Users/.../Domestic_Space_Project/DataForClassifier/AnnotationTablesForClassifier/TrainingDataWithNoTrash.xlsx')"
   ]
  },
  {
   "cell_type": "code",
   "execution_count": 58,
   "id": "d3ba8ca1",
   "metadata": {
    "ExecuteTime": {
     "end_time": "2025-02-03T21:38:01.846083Z",
     "start_time": "2025-02-03T21:38:01.842439Z"
    }
   },
   "outputs": [
    {
     "data": {
      "text/html": [
       "<div>\n",
       "<style scoped>\n",
       "    .dataframe tbody tr th:only-of-type {\n",
       "        vertical-align: middle;\n",
       "    }\n",
       "\n",
       "    .dataframe tbody tr th {\n",
       "        vertical-align: top;\n",
       "    }\n",
       "\n",
       "    .dataframe thead th {\n",
       "        text-align: right;\n",
       "    }\n",
       "</style>\n",
       "<table border=\"1\" class=\"dataframe\">\n",
       "  <thead>\n",
       "    <tr style=\"text-align: right;\">\n",
       "      <th></th>\n",
       "      <th>Passage</th>\n",
       "      <th>Tag</th>\n",
       "    </tr>\n",
       "  </thead>\n",
       "  <tbody>\n",
       "    <tr>\n",
       "      <th>0</th>\n",
       "      <td>Was he ?\" said Lilly. \" I didn't see hir n!\" \"...</td>\n",
       "      <td>domestic</td>\n",
       "    </tr>\n",
       "    <tr>\n",
       "      <th>1</th>\n",
       "      <td>Yhatever he had done, it was to establish the ...</td>\n",
       "      <td>other</td>\n",
       "    </tr>\n",
       "    <tr>\n",
       "      <th>2</th>\n",
       "      <td>‚Äö√Ñ¬¢-You will find/' said Brerewood, handin...</td>\n",
       "      <td>domestic</td>\n",
       "    </tr>\n",
       "    <tr>\n",
       "      <th>3</th>\n",
       "      <td>\"' I !\" exclaimed John in alarm (he might lose...</td>\n",
       "      <td>domestic</td>\n",
       "    </tr>\n",
       "    <tr>\n",
       "      <th>4</th>\n",
       "      <td>I only know it would be a bad business for him...</td>\n",
       "      <td>domestic</td>\n",
       "    </tr>\n",
       "  </tbody>\n",
       "</table>\n",
       "</div>"
      ],
      "text/plain": [
       "                                             Passage       Tag\n",
       "0  Was he ?\" said Lilly. \" I didn't see hir n!\" \"...  domestic\n",
       "1  Yhatever he had done, it was to establish the ...     other\n",
       "2  ‚Äö√Ñ¬¢-You will find/' said Brerewood, handin...  domestic\n",
       "3  \"' I !\" exclaimed John in alarm (he might lose...  domestic\n",
       "4  I only know it would be a bad business for him...  domestic"
      ]
     },
     "execution_count": 58,
     "metadata": {},
     "output_type": "execute_result"
    }
   ],
   "source": [
    "#look at the top of the table\n",
    "df_domestic.head()"
   ]
  },
  {
   "cell_type": "code",
   "execution_count": 59,
   "id": "0b4b5c54",
   "metadata": {
    "ExecuteTime": {
     "end_time": "2025-02-03T21:38:02.498883Z",
     "start_time": "2025-02-03T21:38:02.495428Z"
    }
   },
   "outputs": [],
   "source": [
    "#translate text labels to numeric\n",
    "df_domestic['Labels']=df_domestic['Tag'].map({'other': 0, 'domestic':1})\n",
    "#drop the \"Tag\" column\n",
    "df_domestic=df_domestic.drop([\"Tag\"], axis=1)"
   ]
  },
  {
   "cell_type": "code",
   "execution_count": 60,
   "id": "4c543392",
   "metadata": {
    "ExecuteTime": {
     "end_time": "2025-02-03T21:38:03.072197Z",
     "start_time": "2025-02-03T21:38:03.069898Z"
    }
   },
   "outputs": [],
   "source": [
    "#import libraries etc\n",
    "import numpy as np\n",
    "import matplotlib.pyplot as plt\n",
    "plt.style.use('ggplot')"
   ]
  },
  {
   "cell_type": "code",
   "execution_count": 61,
   "id": "42fdbed9",
   "metadata": {
    "ExecuteTime": {
     "end_time": "2025-02-03T21:38:03.598861Z",
     "start_time": "2025-02-03T21:38:03.596804Z"
    }
   },
   "outputs": [],
   "source": [
    "#define number of classes (more important if you have multiple)\n",
    "num_classes = len(df_domestic[\"Labels\"].value_counts())"
   ]
  },
  {
   "cell_type": "code",
   "execution_count": 62,
   "id": "98bc078b",
   "metadata": {
    "ExecuteTime": {
     "end_time": "2025-02-03T21:38:04.280133Z",
     "start_time": "2025-02-03T21:38:04.278229Z"
    }
   },
   "outputs": [],
   "source": [
    "#load tensorflow and data division\n",
    "import tensorflow as tf\n",
    "from sklearn.model_selection import train_test_split"
   ]
  },
  {
   "cell_type": "code",
   "execution_count": 63,
   "id": "2af6c9bd",
   "metadata": {
    "ExecuteTime": {
     "end_time": "2025-02-03T21:38:04.935245Z",
     "start_time": "2025-02-03T21:38:04.931591Z"
    }
   },
   "outputs": [],
   "source": [
    "#turn numeric labels into categorical variables\n",
    "y=tf.keras.utils.to_categorical(df_domestic[\"Labels\"].values, num_classes=num_classes)\n",
    "#split sample into training and test sets\n",
    "x_train, x_test, y_train, y_test=train_test_split(df_domestic['Passage'], y, test_size=0.25)"
   ]
  },
  {
   "cell_type": "code",
   "execution_count": 64,
   "id": "c5c07bd1",
   "metadata": {
    "ExecuteTime": {
     "end_time": "2025-02-03T21:38:09.600245Z",
     "start_time": "2025-02-03T21:38:05.903830Z"
    }
   },
   "outputs": [],
   "source": [
    "#import Bert Models\n",
    "import tensorflow_hub as hub\n",
    "import tensorflow_text as text\n",
    "\n",
    "#create preprocessor and encoder/bert models\n",
    "#preprocessor = hub.load('https://tfhub.dev/tensorflow/bert_en_uncased_preprocess/3')\n",
    "#encoder = hub.load('https://tfhub.dev/google/experts/bert/wiki_books/mnli/2')\n",
    "\n",
    "preprocessor = hub.KerasLayer(\"https://tfhub.dev/google/universal-sentence-encoder-cmlm/multilingual-preprocess/2\")\n",
    "encoder = hub.KerasLayer(\"https://tfhub.dev/google/universal-sentence-encoder-cmlm/multilingual-base/1\")"
   ]
  },
  {
   "cell_type": "code",
   "execution_count": 65,
   "id": "69fe2895",
   "metadata": {
    "ExecuteTime": {
     "end_time": "2025-02-03T21:38:10.258516Z",
     "start_time": "2025-02-03T21:38:10.135525Z"
    }
   },
   "outputs": [],
   "source": [
    "#create model parameters\n",
    "i = tf.keras.layers.Input(shape=(), dtype=tf.string, name='text')\n",
    "x = preprocessor(i)\n",
    "x = encoder(x)\n",
    "x = tf.keras.layers.Dropout(0.2, name=\"dropout\")(x['pooled_output'])\n",
    "x = tf.keras.layers.Dense(num_classes, activation='softmax', name=\"output\")(x)\n",
    "model_domestic = tf.keras.Model(i, x)"
   ]
  },
  {
   "cell_type": "code",
   "execution_count": 66,
   "id": "783c92cd",
   "metadata": {
    "ExecuteTime": {
     "end_time": "2025-02-03T21:48:08.469713Z",
     "start_time": "2025-02-03T21:38:10.933121Z"
    }
   },
   "outputs": [
    {
     "name": "stdout",
     "output_type": "stream",
     "text": [
      "Epoch 1/13\n",
      "27/27 [==============================] - 52s 2s/step - loss: 0.6974 - accuracy: 0.5709 - balanced_recall: 0.5554 - balanced_precision: 0.5576 - balanced_f1_score: 0.5545 - val_loss: 0.6395 - val_accuracy: 0.6175 - val_balanced_recall: 0.5816 - val_balanced_precision: 0.6312 - val_balanced_f1_score: 0.6001\n",
      "Epoch 2/13\n",
      "27/27 [==============================] - 46s 2s/step - loss: 0.6226 - accuracy: 0.6460 - balanced_recall: 0.6379 - balanced_precision: 0.6484 - balanced_f1_score: 0.6428 - val_loss: 0.5923 - val_accuracy: 0.6877 - val_balanced_recall: 0.6550 - val_balanced_precision: 0.7453 - val_balanced_f1_score: 0.6960\n",
      "Epoch 3/13\n",
      "27/27 [==============================] - 47s 2s/step - loss: 0.5628 - accuracy: 0.7186 - balanced_recall: 0.7072 - balanced_precision: 0.7102 - balanced_f1_score: 0.7086 - val_loss: 0.5582 - val_accuracy: 0.7684 - val_balanced_recall: 0.7433 - val_balanced_precision: 0.8039 - val_balanced_f1_score: 0.7710\n",
      "Epoch 4/13\n",
      "27/27 [==============================] - 45s 2s/step - loss: 0.5450 - accuracy: 0.7315 - balanced_recall: 0.7152 - balanced_precision: 0.7329 - balanced_f1_score: 0.7233 - val_loss: 0.5397 - val_accuracy: 0.7544 - val_balanced_recall: 0.7294 - val_balanced_precision: 0.7886 - val_balanced_f1_score: 0.7563\n",
      "Epoch 5/13\n",
      "27/27 [==============================] - 46s 2s/step - loss: 0.5214 - accuracy: 0.7456 - balanced_recall: 0.7370 - balanced_precision: 0.7394 - balanced_f1_score: 0.7380 - val_loss: 0.5266 - val_accuracy: 0.7579 - val_balanced_recall: 0.7366 - val_balanced_precision: 0.7885 - val_balanced_f1_score: 0.7605\n",
      "Epoch 6/13\n",
      "27/27 [==============================] - 45s 2s/step - loss: 0.4888 - accuracy: 0.7855 - balanced_recall: 0.7770 - balanced_precision: 0.7903 - balanced_f1_score: 0.7834 - val_loss: 0.5062 - val_accuracy: 0.8000 - val_balanced_recall: 0.7859 - val_balanced_precision: 0.8065 - val_balanced_f1_score: 0.7957\n",
      "Epoch 7/13\n",
      "27/27 [==============================] - 44s 2s/step - loss: 0.4795 - accuracy: 0.7855 - balanced_recall: 0.7814 - balanced_precision: 0.7865 - balanced_f1_score: 0.7838 - val_loss: 0.5034 - val_accuracy: 0.7439 - val_balanced_recall: 0.7470 - val_balanced_precision: 0.7430 - val_balanced_f1_score: 0.7450\n",
      "Epoch 8/13\n",
      "27/27 [==============================] - 44s 2s/step - loss: 0.4650 - accuracy: 0.7831 - balanced_recall: 0.7761 - balanced_precision: 0.7880 - balanced_f1_score: 0.7817 - val_loss: 0.5000 - val_accuracy: 0.7404 - val_balanced_recall: 0.7461 - val_balanced_precision: 0.7424 - val_balanced_f1_score: 0.7442\n",
      "Epoch 9/13\n",
      "27/27 [==============================] - 45s 2s/step - loss: 0.4584 - accuracy: 0.8007 - balanced_recall: 0.7936 - balanced_precision: 0.7995 - balanced_f1_score: 0.7965 - val_loss: 0.4870 - val_accuracy: 0.7825 - val_balanced_recall: 0.7718 - val_balanced_precision: 0.7800 - val_balanced_f1_score: 0.7757\n",
      "Epoch 10/13\n",
      "27/27 [==============================] - 45s 2s/step - loss: 0.4498 - accuracy: 0.7855 - balanced_recall: 0.7786 - balanced_precision: 0.7833 - balanced_f1_score: 0.7808 - val_loss: 0.4873 - val_accuracy: 0.7930 - val_balanced_recall: 0.7779 - val_balanced_precision: 0.8009 - val_balanced_f1_score: 0.7889\n",
      "Epoch 11/13\n",
      "27/27 [==============================] - 46s 2s/step - loss: 0.4389 - accuracy: 0.8077 - balanced_recall: 0.8006 - balanced_precision: 0.8059 - balanced_f1_score: 0.8031 - val_loss: 0.4798 - val_accuracy: 0.7789 - val_balanced_recall: 0.7780 - val_balanced_precision: 0.7769 - val_balanced_f1_score: 0.7773\n",
      "Epoch 12/13\n",
      "27/27 [==============================] - 45s 2s/step - loss: 0.4288 - accuracy: 0.8159 - balanced_recall: 0.8105 - balanced_precision: 0.8092 - balanced_f1_score: 0.8097 - val_loss: 0.4773 - val_accuracy: 0.7789 - val_balanced_recall: 0.7718 - val_balanced_precision: 0.7755 - val_balanced_f1_score: 0.7735\n",
      "Epoch 13/13\n",
      "27/27 [==============================] - 45s 2s/step - loss: 0.4303 - accuracy: 0.8019 - balanced_recall: 0.7984 - balanced_precision: 0.8037 - balanced_f1_score: 0.8009 - val_loss: 0.4747 - val_accuracy: 0.7754 - val_balanced_recall: 0.7644 - val_balanced_precision: 0.7727 - val_balanced_f1_score: 0.7684\n"
     ]
    }
   ],
   "source": [
    "#run the model\n",
    "\n",
    "n_epochs = 20\n",
    "METRICS = [ tf.keras.metrics.CategoricalAccuracy(name=\"accuracy\"), balanced_recall, balanced_precision, balanced_f1_score]\n",
    "\n",
    "earlystop_callback = tf.keras.callbacks.EarlyStopping(monitor = \"val_loss\", patience = 3, restore_best_weights = True)\n",
    "\n",
    "model_domestic.compile(optimizer = \"adam\", loss = \"categorical_crossentropy\",metrics = METRICS)\n",
    "\n",
    "model_domestic_fit = model_domestic.fit(x_train, y_train, epochs = n_epochs, validation_data = (x_test, y_test), callbacks = [earlystop_callback])"
   ]
  },
  {
   "cell_type": "code",
   "execution_count": 67,
   "id": "3c9a9c17",
   "metadata": {
    "ExecuteTime": {
     "end_time": "2025-02-03T21:53:32.871916Z",
     "start_time": "2025-02-03T21:53:32.434797Z"
    }
   },
   "outputs": [
    {
     "data": {
      "image/png": "[encoded data removed]",
      "text/plain": [
       "<Figure size 3000x500 with 5 Axes>"
      ]
     },
     "metadata": {},
     "output_type": "display_data"
    }
   ],
   "source": [
    "#plot change in accuracy scores over epochs\n",
    "x = list(range(1, 20+1))#has to be adapted to the actual number of epochs +1\n",
    "metric_list = list(model_domestic_fit.history.keys())\n",
    "num_metrics = int(len(metric_list)/2)\n",
    "\n",
    "fig, ax = plt.subplots(nrows=1, ncols=num_metrics, figsize=(30, 5))\n",
    "\n",
    "for i in range(0, num_metrics):\n",
    "    ax[i].plot(x, model_domestic_fit.history[metric_list[i]], marker=\"o\", label=metric_list[i].replace(\"_\", \" \"))\n",
    "    ax[i].plot(x, model_domestic_fit.history[metric_list[i+num_metrics]], marker=\"o\", label=metric_list[i+num_metrics].replace(\"_\", \" \"))\n",
    "    ax[i].set_xlabel(\"epochs\",fontsize=14)\n",
    "    ax[i].set_title(metric_list[i].replace(\"_\", \" \"),fontsize=20)\n",
    "    ax[i].legend(loc=\"lower left\")\n",
    "    #ax[i].set_ylim([0,1])\n",
    "    \n",
    "fig.savefig('/Users/.../Domestic_Space_Project/DataForClassifier/ClassificationSuccess_DomesticSpacePrediction.pdf')\n"
   ]
  },
  {
   "cell_type": "code",
   "execution_count": 51,
   "id": "ff7d38b3",
   "metadata": {},
   "outputs": [
    {
     "name": "stdout",
     "output_type": "stream",
     "text": [
      "Model: \"model_1\"\n",
      "__________________________________________________________________________________________________\n",
      " Layer (type)                   Output Shape         Param #     Connected to                     \n",
      "==================================================================================================\n",
      " text (InputLayer)              [(None,)]            0           []                               \n",
      "                                                                                                  \n",
      " keras_layer_2 (KerasLayer)     {'input_type_ids':   0           ['text[0][0]']                   \n",
      "                                (None, 128),                                                      \n",
      "                                 'input_mask': (Non                                               \n",
      "                                e, 128),                                                          \n",
      "                                 'input_word_ids':                                                \n",
      "                                (None, 128)}                                                      \n",
      "                                                                                                  \n",
      " keras_layer_3 (KerasLayer)     {'pooled_output': (  470926849   ['keras_layer_2[0][0]',          \n",
      "                                None, 768),                       'keras_layer_2[0][1]',          \n",
      "                                 'sequence_output':               'keras_layer_2[0][2]']          \n",
      "                                 (None, 128, 768),                                                \n",
      "                                 'default': (None,                                                \n",
      "                                768)}                                                             \n",
      "                                                                                                  \n",
      " dropout (Dropout)              (None, 768)          0           ['keras_layer_3[0][1]']          \n",
      "                                                                                                  \n",
      " output (Dense)                 (None, 2)            1538        ['dropout[0][0]']                \n",
      "                                                                                                  \n",
      "==================================================================================================\n",
      "Total params: 470,928,387\n",
      "Trainable params: 1,538\n",
      "Non-trainable params: 470,926,849\n",
      "__________________________________________________________________________________________________\n"
     ]
    }
   ],
   "source": [
    "model_domestic.summary()\n"
   ]
  },
  {
   "cell_type": "markdown",
   "id": "d36b8a010615ff73",
   "metadata": {
    "collapsed": false,
    "jupyter": {
     "outputs_hidden": false
    }
   },
   "source": [
    "## Save the trash detector model for reuse "
   ]
  },
  {
   "cell_type": "code",
   "execution_count": 69,
   "id": "1e4d1dd94a9263b9",
   "metadata": {
    "ExecuteTime": {
     "end_time": "2025-02-03T21:55:07.289439Z",
     "start_time": "2025-02-03T21:55:05.530219Z"
    },
    "collapsed": false,
    "jupyter": {
     "outputs_hidden": false
    }
   },
   "outputs": [],
   "source": [
    "#TO SAVE THE MODEL\n",
    "model_domestic.save(\"/Users/.../Domestic_Space_Project/TwoModelSolution/DomesticSpaceModel.keras\")"
   ]
  },
  {
   "cell_type": "code",
   "execution_count": null,
   "id": "18168519",
   "metadata": {},
   "outputs": [],
   "source": [
    "#TO LOAD THE SAVED MODEL\n",
    "reloaded_domestic_model = tf.keras.models.load_model(\"/Users/.../Domestic_Space_Project/TwoModelSolution/DomesticSpaceModel.keras\")"
   ]
  },
  {
   "cell_type": "markdown",
   "id": "cf517aaf1bb0c10c",
   "metadata": {
    "collapsed": false,
    "jupyter": {
     "outputs_hidden": false
    }
   },
   "source": [
    "# Functions for Evaluating the model"
   ]
  },
  {
   "cell_type": "markdown",
   "id": "7dff0aa338f73479",
   "metadata": {
    "collapsed": false,
    "jupyter": {
     "outputs_hidden": false
    }
   },
   "source": [
    "## Evaluation of the Trash detection"
   ]
  },
  {
   "cell_type": "code",
   "execution_count": 95,
   "id": "16f21594",
   "metadata": {
    "ExecuteTime": {
     "end_time": "2025-02-03T23:14:23.820542Z",
     "start_time": "2025-02-03T23:14:23.817859Z"
    }
   },
   "outputs": [],
   "source": [
    "#function for predicting new sentences with trash detector\n",
    "def predict_class(reviews):\n",
    "  return [np.argmax(pred) for pred in model_trash.predict(reviews)]"
   ]
  },
  {
   "cell_type": "code",
   "execution_count": null,
   "id": "52c0990004820ed9",
   "metadata": {
    "collapsed": false,
    "jupyter": {
     "outputs_hidden": false
    }
   },
   "outputs": [],
   "source": [
    "#imports original test data for trash detection (withhold from training data)\n",
    "test_trash = pd.read_csv('/Users/.../Domestic_Space_Project/DataForClassifier/WithheldSampleFromOriginalTraining_TrashDetector.csv')\n",
    "\n",
    "#extracts the passage column and stores it in the list for prediction\n",
    "test_trash_text = test_trash['Passage'].tolist()"
   ]
  },
  {
   "cell_type": "code",
   "execution_count": 96,
   "id": "fcd789c2",
   "metadata": {
    "ExecuteTime": {
     "end_time": "2025-02-03T23:14:28.397289Z",
     "start_time": "2025-02-03T23:14:25.467776Z"
    }
   },
   "outputs": [
    {
     "name": "stdout",
     "output_type": "stream",
     "text": [
      "2/2 [==============================] - 3s 1s/step\n"
     ]
    }
   ],
   "source": [
    "#uses the model_trash aka trash detector to predict whether a segment is \"trash\" or \"not trash\"\n",
    "perc_probability=model_trash.predict(test_trash_text)"
   ]
  },
  {
   "cell_type": "code",
   "execution_count": 97,
   "id": "4a323375",
   "metadata": {
    "ExecuteTime": {
     "end_time": "2025-02-03T23:14:30.489040Z",
     "start_time": "2025-02-03T23:14:30.486848Z"
    }
   },
   "outputs": [],
   "source": [
    "#defines a new dataframe to store the predictions of each segment and concatenates it with the previously loaded dataframe containing the segment plus additional metadata and manual annotations as a test base\n",
    "prob_df = pd.DataFrame(perc_probability, columns=['not_trash', 'trash'])\n",
    "combined_table=pd.concat([test_trash, prob_df], axis=1)"
   ]
  },
  {
   "cell_type": "code",
   "execution_count": 98,
   "id": "77ad709a",
   "metadata": {
    "ExecuteTime": {
     "end_time": "2025-02-03T23:15:38.381362Z",
     "start_time": "2025-02-03T23:15:38.377687Z"
    }
   },
   "outputs": [],
   "source": [
    "#store the combined table to a csv for error analysis\n",
    "combined_table.to_csv(r'/Users/.../Domestic_Space_Project/Results/WithheldSampleFromOriginalTraining_TrashDetector_TrashDetectionPredictions.csv')"
   ]
  },
  {
   "cell_type": "code",
   "execution_count": 99,
   "id": "1b8f4ad7d5bff50e",
   "metadata": {
    "ExecuteTime": {
     "end_time": "2025-02-03T23:15:55.064753Z",
     "start_time": "2025-02-03T23:15:55.060492Z"
    },
    "collapsed": false,
    "jupyter": {
     "outputs_hidden": false
    }
   },
   "outputs": [
    {
     "data": {
      "text/html": [
       "<div>\n",
       "<style scoped>\n",
       "    .dataframe tbody tr th:only-of-type {\n",
       "        vertical-align: middle;\n",
       "    }\n",
       "\n",
       "    .dataframe tbody tr th {\n",
       "        vertical-align: top;\n",
       "    }\n",
       "\n",
       "    .dataframe thead th {\n",
       "        text-align: right;\n",
       "    }\n",
       "</style>\n",
       "<table border=\"1\" class=\"dataframe\">\n",
       "  <thead>\n",
       "    <tr style=\"text-align: right;\">\n",
       "      <th></th>\n",
       "      <th>Passage</th>\n",
       "      <th>Tag</th>\n",
       "      <th>Unnamed: 2</th>\n",
       "      <th>not_trash</th>\n",
       "      <th>trash</th>\n",
       "    </tr>\n",
       "  </thead>\n",
       "  <tbody>\n",
       "    <tr>\n",
       "      <th>0</th>\n",
       "      <td>Hall is well worthy to look out upon such a su...</td>\n",
       "      <td>not_trash</td>\n",
       "      <td>NaN</td>\n",
       "      <td>0.655042</td>\n",
       "      <td>0.344958</td>\n",
       "    </tr>\n",
       "    <tr>\n",
       "      <th>1</th>\n",
       "      <td>The man who would map out the currents of the ...</td>\n",
       "      <td>not_trash</td>\n",
       "      <td>NaN</td>\n",
       "      <td>0.598782</td>\n",
       "      <td>0.401218</td>\n",
       "    </tr>\n",
       "    <tr>\n",
       "      <th>2</th>\n",
       "      <td>He had thrown the brand of wickedness and rebe...</td>\n",
       "      <td>not_trash</td>\n",
       "      <td>NaN</td>\n",
       "      <td>0.746360</td>\n",
       "      <td>0.253640</td>\n",
       "    </tr>\n",
       "    <tr>\n",
       "      <th>3</th>\n",
       "      <td>But Henry always had the comfortable faculty o...</td>\n",
       "      <td>not_trash</td>\n",
       "      <td>NaN</td>\n",
       "      <td>0.431565</td>\n",
       "      <td>0.568435</td>\n",
       "    </tr>\n",
       "    <tr>\n",
       "      <th>4</th>\n",
       "      <td>It so, and let us part, Since love like mine h...</td>\n",
       "      <td>not_trash</td>\n",
       "      <td>NaN</td>\n",
       "      <td>0.772480</td>\n",
       "      <td>0.227520</td>\n",
       "    </tr>\n",
       "    <tr>\n",
       "      <th>...</th>\n",
       "      <td>...</td>\n",
       "      <td>...</td>\n",
       "      <td>...</td>\n",
       "      <td>...</td>\n",
       "      <td>...</td>\n",
       "    </tr>\n",
       "    <tr>\n",
       "      <th>59</th>\n",
       "      <td>''Thank ye, Mr. Quaver,\" replied the widow, st...</td>\n",
       "      <td>not_trash</td>\n",
       "      <td>NaN</td>\n",
       "      <td>0.602432</td>\n",
       "      <td>0.397568</td>\n",
       "    </tr>\n",
       "    <tr>\n",
       "      <th>60</th>\n",
       "      <td>In either case should they chance to outnumber...</td>\n",
       "      <td>not_trash</td>\n",
       "      <td>NaN</td>\n",
       "      <td>0.654027</td>\n",
       "      <td>0.345973</td>\n",
       "    </tr>\n",
       "    <tr>\n",
       "      <th>61</th>\n",
       "      <td>^ OHN MORRISON took his refusal ^^V in the sam...</td>\n",
       "      <td>not_trash</td>\n",
       "      <td>NaN</td>\n",
       "      <td>0.693351</td>\n",
       "      <td>0.306649</td>\n",
       "    </tr>\n",
       "    <tr>\n",
       "      <th>62</th>\n",
       "      <td>Your visitant appeared too much under the infl...</td>\n",
       "      <td>not_trash</td>\n",
       "      <td>NaN</td>\n",
       "      <td>0.826911</td>\n",
       "      <td>0.173089</td>\n",
       "    </tr>\n",
       "    <tr>\n",
       "      <th>63</th>\n",
       "      <td>He had just taken his bachelor's degree, and w...</td>\n",
       "      <td>not_trash</td>\n",
       "      <td>NaN</td>\n",
       "      <td>0.743221</td>\n",
       "      <td>0.256779</td>\n",
       "    </tr>\n",
       "  </tbody>\n",
       "</table>\n",
       "<p>64 rows × 5 columns</p>\n",
       "</div>"
      ],
      "text/plain": [
       "                                              Passage        Tag  Unnamed: 2  \\\n",
       "0   Hall is well worthy to look out upon such a su...  not_trash         NaN   \n",
       "1   The man who would map out the currents of the ...  not_trash         NaN   \n",
       "2   He had thrown the brand of wickedness and rebe...  not_trash         NaN   \n",
       "3   But Henry always had the comfortable faculty o...  not_trash         NaN   \n",
       "4   It so, and let us part, Since love like mine h...  not_trash         NaN   \n",
       "..                                                ...        ...         ...   \n",
       "59  ''Thank ye, Mr. Quaver,\" replied the widow, st...  not_trash         NaN   \n",
       "60  In either case should they chance to outnumber...  not_trash         NaN   \n",
       "61  ^ OHN MORRISON took his refusal ^^V in the sam...  not_trash         NaN   \n",
       "62  Your visitant appeared too much under the infl...  not_trash         NaN   \n",
       "63  He had just taken his bachelor's degree, and w...  not_trash         NaN   \n",
       "\n",
       "    not_trash     trash  \n",
       "0    0.655042  0.344958  \n",
       "1    0.598782  0.401218  \n",
       "2    0.746360  0.253640  \n",
       "3    0.431565  0.568435  \n",
       "4    0.772480  0.227520  \n",
       "..        ...       ...  \n",
       "59   0.602432  0.397568  \n",
       "60   0.654027  0.345973  \n",
       "61   0.693351  0.306649  \n",
       "62   0.826911  0.173089  \n",
       "63   0.743221  0.256779  \n",
       "\n",
       "[64 rows x 5 columns]"
      ]
     },
     "execution_count": 99,
     "metadata": {},
     "output_type": "execute_result"
    }
   ],
   "source": [
    "#show the new table\n",
    "combined_table"
   ]
  },
  {
   "cell_type": "code",
   "execution_count": 19,
   "id": "0963426b",
   "metadata": {},
   "outputs": [
    {
     "name": "stdout",
     "output_type": "stream",
     "text": [
      "4/4 [==============================] - 6s 2s/step\n"
     ]
    }
   ],
   "source": [
    "#Import original validation data for trash detection\n",
    "val_trash = pd.read_csv('/Users/.../Domestic_Space_Project/DataForClassifier/ValidationSample_TrashDetection.csv')\n",
    "val_trash_text = val_trash['Passage'].tolist()\n",
    "perc_probability=model_trash.predict(val_trash_text)"
   ]
  },
  {
   "cell_type": "code",
   "execution_count": 20,
   "id": "a3f20128",
   "metadata": {},
   "outputs": [],
   "source": [
    "#combine the original table with the validation sample and combine it with the trash predictions\n",
    "prob_df = pd.DataFrame(perc_probability, columns=['not_trash', 'trash'])\n",
    "combined_table=pd.concat([val_trash, prob_df], axis=1)"
   ]
  },
  {
   "cell_type": "code",
   "execution_count": 21,
   "id": "486f367e",
   "metadata": {},
   "outputs": [],
   "source": [
    "combined_table.to_csv(r'/Users/.../Domestic_Space_Project/Results/ValidationTrashDetectionPredictions_update.csv')"
   ]
  },
  {
   "cell_type": "markdown",
   "id": "8f57e04cc8073ece",
   "metadata": {
    "collapsed": false,
    "jupyter": {
     "outputs_hidden": false
    }
   },
   "source": [
    "## Domestic Space Prediction Test"
   ]
  },
  {
   "cell_type": "code",
   "execution_count": 101,
   "id": "924f8662",
   "metadata": {
    "ExecuteTime": {
     "end_time": "2025-02-04T01:24:47.921542Z",
     "start_time": "2025-02-04T01:24:43.681924Z"
    }
   },
   "outputs": [
    {
     "name": "stdout",
     "output_type": "stream",
     "text": [
      "4/4 [==============================] - 4s 975ms/step\n"
     ]
    }
   ],
   "source": [
    "#Import original test data for domestic detection\n",
    "test_domestic = pd.read_csv('/Users/.../Domestic_Space_Project/Results/GroundTruthForReview_Compiled.csv')\n",
    "test_domestic_text = test_domestic['Passage'].tolist()\n",
    "perc_probability=model_domestic.predict(test_domestic_text)"
   ]
  },
  {
   "cell_type": "code",
   "execution_count": 39,
   "id": "943de39e",
   "metadata": {},
   "outputs": [],
   "source": [
    "prob_df = pd.DataFrame(perc_probability, columns=['other', 'domestic'])\n",
    "combined_table=pd.concat([test_domestic, prob_df], axis=1)"
   ]
  },
  {
   "cell_type": "code",
   "execution_count": 40,
   "id": "19928c47",
   "metadata": {},
   "outputs": [],
   "source": [
    "combined_table.to_csv(r'/Users/.../Domestic_Space_Project/Results/OriginalDomesticDetectionPredictions.csv')"
   ]
  },
  {
   "cell_type": "code",
   "execution_count": 8,
   "id": "5cbb6ed1",
   "metadata": {
    "ExecuteTime": {
     "end_time": "2025-02-03T20:38:34.367395Z",
     "start_time": "2025-02-03T20:38:34.095806Z"
    }
   },
   "outputs": [],
   "source": [
    "#Import original validation data for domestic detection\n",
    "val_domestic = pd.read_csv('/Users/.../Domestic_Space_Project/DataForClassifier/ValidationSample_DomesticDetection.csv')\n",
    "val_domestic_text = val_domestic['Passage'].tolist()\n",
    "perc_probability=model_domestic.predict(val_domestic_text)"
   ]
  },
  {
   "cell_type": "code",
   "execution_count": 42,
   "id": "bb11a869",
   "metadata": {},
   "outputs": [],
   "source": [
    "prob_df = pd.DataFrame(perc_probability, columns=['other', 'domestic'])\n",
    "combined_table=pd.concat([val_domestic, prob_df], axis=1)"
   ]
  },
  {
   "cell_type": "code",
   "execution_count": 43,
   "id": "95b899a5",
   "metadata": {},
   "outputs": [],
   "source": [
    "combined_table.to_csv(r'/Users/.../Domestic_Space_Project/Results/ValidationDomesticDetectionPredictions.csv')"
   ]
  },
  {
   "cell_type": "code",
   "execution_count": null,
   "id": "396fe1fe",
   "metadata": {},
   "outputs": [],
   "source": []
  },
  {
   "cell_type": "markdown",
   "id": "4668f85303648b7f",
   "metadata": {
    "collapsed": false,
    "jupyter": {
     "outputs_hidden": false
    }
   },
   "source": [
    "# Classification of Unseen Data"
   ]
  },
  {
   "cell_type": "code",
   "execution_count": 103,
   "id": "1f18a8da324ecd2",
   "metadata": {
    "ExecuteTime": {
     "end_time": "2025-02-04T01:26:00.218535Z",
     "start_time": "2025-02-04T01:26:00.214144Z"
    },
    "collapsed": false,
    "jupyter": {
     "outputs_hidden": false
    }
   },
   "outputs": [],
   "source": [
    "#raw_data = pd.read_csv('/Users/.../Domestic_Space_Project/GroundTruthedPassages_Agreed.csv')\n",
    "#raw_data = pd.read_excel('/Users/.../Domestic_Space_Project/Data_Preparation_Chadwyck/for_processing/1651_altered.xlsx')\n",
    "raw_data = pd.read_csv('/Users/.../Domestic_Space_Project/Results/GroundTruthForReview_Compiled.csv')\n",
    "for_domesticity_prediction_text = raw_data['Passage'].tolist()"
   ]
  },
  {
   "cell_type": "code",
   "execution_count": 104,
   "id": "c6df5dd2ca0a819f",
   "metadata": {
    "ExecuteTime": {
     "end_time": "2025-02-04T01:26:01.455351Z",
     "start_time": "2025-02-04T01:26:01.451886Z"
    },
    "collapsed": false,
    "jupyter": {
     "outputs_hidden": false
    }
   },
   "outputs": [
    {
     "data": {
      "text/plain": [
       "['Was he ?\" said Lilly. \" I didn\\'t see hir n!\" \" But when did you see hirn P\" asked Philip. \" Well, I think it was Tuesday ‚Äî no, it was Wednesday, when he went away in the shander-a-dan ‚Äî I saw hir n!\" \" What, hasn\\'t he been here since ?\" exclaimed Philip. \"I don\\'t know,\" said Lilly, with an air of strange uncer- tainty. ‚Ä¢ \"',\n",
       " \"Yhatever he had done, it was to establish the petticoated hornet in the dignity of matron of a champion light-weight's wholesome retreat of a public-house. A spell of his larkish hilarity was for the punishment of the girl devoted to his heroical performances, as he still consid- ered her to be, though women are notoriously volatile, and her language was mounting a stage above the kitchen. Madge had little sorrow for Mm. She was the girl of the fiery heart, not the large heart ; she coiild never be devoted to more than one at a time, and her mistress had all her heart. In relation to Kit, the thought of her having sacrificed her good name to him, flung her on her pride of chastity, without the reckoning of it as a merit. It was the inward assurance of her indepen- dence: the young spinster's planting of the standard of her proud secret knowledge of what she is, let it be a thing of worth or what you will, or the world think as it may. That was her thought.\",\n",
       " '‚Äö√Ñ¬¢-You will find/\\' said Brerewood, handing the paper to Mr. Gayley, \\\\that many very honourable names precede yours ; but, without flattery to you, gentlemen, I think I may apply to yours the old saying, \\' Though last, not least.\\' \\\\\" I heard the paper crackle as it was unfolded, and Mr. Gayley began, \\\\\"We, the under- signed ‚Äö√Ñ√Æ \\\\\" I could stand it no longer, and, yielding to an uncontrollable impulse, I threw open the door of the closet, and stepped out into the room before them. CHAPTER XII. I CONFRONT BREREW00D AND HIS FRIENDS. You may imagine their amazement. They all jumped up from their seats and one or two drew their swords. I was the first to speak, ‚Äö√Ñ√Æ \\\\\" Gentlemen, I have unintentionally and accidentally ‚Äö√Ñ√Æ \\\\\" \\\\\"Who are you, sir, who thus play the eaves- dropper?\"',\n",
       " '\"\\' I !\" exclaimed John in alarm (he might lose even the twenty thousand pounds if he roused that \" excitability \" of which Sir Lionel had complained). \" I, disappointed ? No, dear Sir Lionel ! you do me a great Injustice. I may feel [or yo7i, compelled by a sense of justice, which the world would laugh at as Quixotic and overstrained, to leave such sums of ready money in hands which ‚Äö√Ñ√Æ so you fear at least ‚Äö√Ñ√Æ will not make the best use of them. But what right have I, a distant cousin, owing every- thing to your bounty ‚Äö√Ñ√Æ what right have I to expect anything ? None ; nor can I bear that you should believe that my attachment to you is interested.',\n",
       " 'I only know it would be a bad business for him if I heard him. It would be a case of knock- ing him downstairs at the least. There, ‚Äö√Ñ√Æ it is striking four. Ought I to be going away r *\\' Yes, I should think you ought.\\\\ *\\' Why ?\"',\n",
       " \"But you, Dorian, with your pure, bright, innocent face, and your marvellous untroubled youth‚Äö√Ñ√ÆI can't believe anything against you. And yet I see you very seldom, and you never come down to the studio now, and when I am away from you, and I hear all these hideous things that people are whispering about you, I don't know what to say. Why is it, Dorian, that a man like the Duke of Berwick leaves the room of a club when you enter it? Why is it that so many gentlemen in London will neither go to your house nor invite you to theirs? You used to be a friend of Lord Staveley. I met him at dinner last week. Your name happened to come up in conversation, in connection with the miniatures you have lent to the exhibition at the Dudley.\",\n",
       " 'Alfred had kept very quiet since his last adventure, the particulars of which were indeed sufficiently ludic- rous. It seems that he had assumed the Albanian dress on the evening of the revolution, and gone forth on an attic \\\\ lark.\\\\\" The partiality of the disciples of Brickies to fancy di\\'esses is well known ; they are the male \\\\\" bloomers \\\\\" of the age in their tastes ‚Äö√Ñ√Æ and Alfred sallied forth on this occasion in no ordinary spirits. Being addressed in the Greek tongue in the Cafe cle V Europe, he rejoiced in the opportunity of *^ chaffing\\\\\" a nation in a language which, though known about the \\\\\" coal hole,\\\\\" and other similar neighbourhoods, had not as yet (though I doubt not it will, the \\\\\"fast\\\\\" school- master being abroad) become familiar to the inhabitants of the East. The result was a row, and the hustling of the youth into his hotel, previously described. Per- haps the person who felt dullest about this time, of the party, was ^Irs.\"',\n",
       " 'How dare you presume to enter here ? \" and she trembles with passion. \" Now look here, my dear madam,\" says VOL. I. IG Tom, \" I don\\'t know who you are or what you are, nor do I care the husk of a nut, but I am a theatrical man, and I won\\'t hear the profession run down.\" \" Young man ! \" screams Miss Minerva, starting to her feet. \" Old woman ! \" answers Tom, springing to his feet.',\n",
       " \"And are you sure she did not curse me ? Martin. I am sure she did not curse you > because she prayed so heartily, to have her sins forgiven; and sure she durst not pray for that, if she did not for- give others. She did not often talk of you, indeed, I heard Biddy say ; but when she did, she said, the worst wish she wished you, was, that you might re- pent of the usage you gave her, before you came to lie on such a bed as she lay on ; and sure that was not like cursing ? Thady. Oh then, my own mind curses me, and I can't go from that.\",\n",
       " \"I had better not read this, perhaps,' said Olive, hesitatingly. ' Oh yes, you may read that. I have told VOL. I. D you yoLi may, and it was to be as I thought best : but no more ‚Äî not one more. You will find me very strict about these things, Olive.\",\n",
       " 'Neither do I,\\\\ I admitted, candidly; \\\\\"but I suppose the architect will do so.\\\\\" \\\\\" I think I can see how it could be man- aged by means of a gallery,\\\\\" said Mr. Marten, criticising my rough plan ; \\\\\" but as you say, these details are best left to pro- fessional skill.\\\\\" \\\\\" And how many bedrooms do you mean to have?\\'\\' asked Ruth. \\\\\" I think of five,\\\\\" I replied. \\\\\" One for the heads of the family, extending over the study, one over the kitchen, two over the parlour, and a little extra chamber above the hall.\\\\\" \\\\\" Then you intend the study and the parlour to be rather large ?\\\\\" remarked Mr. llarten. \\'\\'Each about sixteen feet by fifteen,\\\\\" I answered. \\\\\" But I never thought a man with two hundred a year could live in so large a house as this,\\\\\" he said, very briskly. \\\\\" I mean it for an income of two hundred exclusive of house rent,\\\\\" I replied.\"',\n",
       " '\"You must get a proper hunting whip ‚Äö√Ñ√Æ that postilion\\'s affair won\\'t do at all. And get those leathers of your father\\'s tied in behind. The boots do capitally, only don\\'t let them slip down, so as to show your legs ; or else wear stockings.\" \" I haven\\'t any, excepting the silk ones for my second dress.\" \" Sir Lucius O\\'Trigger : by-the-bye, you mustn\\'t wear sham whiskers and moustaches ; nobody did in those days. And try to make the character as light and easy as you can. Sheridan was a most accomplished gentleman, and he had an eye to himself in the character.',\n",
       " 'All you have to rely upon, in addi- tion to what you choose to call \\' suspicious cir- VOL. IIL Q cumstances,\\' is the evidence of this Black, who must clearly be mistaken, as well as her supe- riors.\" \" You dared to accuse me of conspiring to carry away this lady/\\' he resumed, seeing Henry\\'s consternation at the backsliding of Zorah. \\'*‚ñ† Now even you yourself must acknowledge the accusation to be false ; and, if you possess the feelings of a gentleman, you will tender an ample apology.\" \"That I shall never do,\" Wilton quietly an- swered. \"The same opinion I still hold.',\n",
       " \"She's my wife, and you know what your own feelings were once. But look here,‚Äö√Ñ√Æwe are in that state at home at this moment, that I must get money somewhere before I go home. I must, indeed. If you'll let me have three pounds this once, I'll never ask you again. I'll give you a written promise if you like, and I'll pledge myself to pay it back by thirty shillings a time out of the two next months' salary. I will, indeed.‚Äö√Ñ√π And then Mr. Cradell began to cry.\",\n",
       " \"In criticising this, and laughing at the story of the travelling limner's unmerciful critics at the farm, he recovered some of his usual calm. On leaving to rejoin the party downstairs, from whom his absence had been too long for courtesy, I bid him send Sir Burleigh up, as I neither could nor would stay now in these distant rooms alone, since he had said 'twas dangerous. Drawing my chair nearer the fire, I spread my hands idly to the glow, thinking. The*small jewel-box open on the table close by, the diamonds were glinting in the firelight. For awhile, thinking of Sergius, I did not note this ; then, with a sudden tremor, recalled why I had taken them off. Kilmarnock never spoke idly. Why should he warn me in vain?\",\n",
       " '\"You forget that \" \\'* Ah true ‚Äö√Ñ√Æ well you, Desmond, and Frisker- ton ? what say you ?\" \" Volontiers,^\\' said Desmond, \" give me a fortnight to correct the last proofs of my novel, and 1 am ready to travel to Kamschatka if you please, variety is my vital principle ; I have neither wife nor children, thanked be heaven I and never mean to have any, if I can help it ‚Äö√Ñ√Æ except those in three volumes, which, instead of requiring attention, are so dutiful as to do something towards assisting their father and his, unfortunately, rather scanty rental.\" \" No going to the East for me,\" said Lord Friskerton, \"it is so infernally cockneyfied ! \" ** An excellent objection truly,\" said Mesmer, but you have not read Eothen ‚Äö√Ñ√Æ Oh ! how in my early youth I used to revel in the dreams of the orient ! how I used to long for the lance and rapid steed of a Bedovveen chief!',\n",
       " 'Well, Lucy, I will not ask you for your secret, but tell me why you do not think either of the two you have named good enough for me.^ \" They don\\'t look good enough. Mr. Wil- loughby appears vain and trifling, and Mr. Lorimer ‚Äî I have seen much more of him than the other ‚Äî is, I am certain, the very last per- son in the world to suit youy Again Gertrude laughed, and enquired what bad qualities Lucy had detected in Mrs. Tem- plets brilliant and accomplished cousin ? But Lucy declared that she had detected none. She believed him to be good-tempered, generous, clever, agreeable, and so forth ‚Äî but still, in spite of all this, wholly and entirely unsuited to Miss Cameron ‚Äî the very last per- son in the world, she again repeated, that Gertrude ought to marry. \" Surely,\" said the latter, \" you have thought much more of these things than is usual with young people of your age ‚Äî you are quite a child in years, Lucy, yet you talk like a very thoughtful woman.\" \" I am only thirteen, it is true, but then for the last four years I have been papa\\'s constant companion ‚Äî and my ill health has also, I dare say, contributed to make me less childish than others of the same age.\"',\n",
       " 'Live upon ! what do you mean ? That depends upon so many things.\" \" Suppose, then, I mean ‚Äî marry upon ? \" \" Oh,\" said she, \\'\\' that must be according to the style you live in, and the establishment you mean to keep. But I hope you are not thinking of anything of the sort yet, John ?',\n",
       " 'It does not appear to me that you are at pre- sent under any absolute necessity of calling Mr. Mortimer out : he did not appear as your pro- secutor or accuser ; and, excuse me for saying so, the case is altogether one without a pre- cedent in the annals of honour. Suppose that you should send him a challenge, and he should decline it, which is very likely ; and then he should send to the newspapers a paragraph, stating that a young man, mentioning your name, was had up to the police-office for break- ing into a pantry, and the charge being dis- missed, the accused person sent a challenge to a gentleman who was present at the examina- tion, and who very properly laughed at the challenger for his chivalric spirit.\\\\ \\\\\" Ay !\\\\\" exclaimed Frederick again, \\'\\' now you mention that, I fear that my name will ap- pear in the papers already, in spite of my teeth. Oh ! what a precious fool I have been ! I shall be made a laughing-stock and a by-word.\\\\\" With this unpleasant anticipation, Frederick took leave of his friend, and passed another sleepless night.\"',\n",
       " 'Because the father of your father was not so religious a man as old Simone, the sacristan, and he was by no means as desirous that the marriage should take place as the father of your mother was. Doubtless he would never have suffered it to take place at all, had it not been that his eldest son, your father, was known to be in a dying state at the time. As it was, your father, desirous as his days were drawing to a close, to repair, as far as lay in his power, the wrong he had done to your mother, and your grandfather did together induce him to consent that the ceremony should take place. But at tlie same time lie took care tliat the tMng should be so managed that the only proof of it remained in his hands. And when your father and mother were both dead, old Simone, the father of your mother, found that the other old gentleman, the father of your father, altogether refused to admit or recognise the marriage in any way. And you remained under the care of your grandfather, the sacristan, because your grandfather, the gentleman, would have nothing to say to you, and you con- tinued to be called Nanni Scocco, because the latter denied that you had any right to hear his name.\" \" But I had a right, according to what you say.',\n",
       " 'Nonsense, Frank: what had the poor girl to say to his misfortunes ?\\'\\' The Major spoke almost harshly, for Grace was his favourite child. Frank, more quick-witted and calculating by nature, was liable at times to perceive and see through the petty foibles of his father in a way which was by no means comfortable or pleasant; while Grace, on the contrary, was too easygoing and indolent to look for anything in him but the indulgent consideration for her every whim which never failed. \" Grace has had everything to do with it, sir. She deluded the poor fellow into falling in love with her, and then sent him off in a pique.\" \" Well, I must say you are hard on the girl, Frank. How could she help him or any other fellow falling in love with her ?',\n",
       " \"some fellow to whom I spoke last night.* ' I certainly did question you about a tall gentleman, but was not aware of his claims to beauty/ replied I. ^ Well, that is as it may be,' said he ; * the ladies think him handsome, and their opinion upon that score is more valuable than yours or mine. Do you know,' he continued, ' I sometimes feel half sorry that I ever made the fellow's acquaintance : he is quite a marked man here, and they tell stories of him that are anything but reputable, though I am sure without foundation. I think I know enough about him to warrant me in saying so.' * May I ask his name ?' inquired I. * Oh !\",\n",
       " 'Byronian ‚Äö√Ñ√Æ he is the only man that is read in Town ‚Äö√Ñ√Æ those Lakists that go and make faces at themseh^es on the waveless w^aters, and then run home to put their reflections upon papei* are quite out- voted now ; even the ladies never think of them.\\\\ \\\\\" No, I suppose not,\\\\\" said ]Mr. NeviHe, \\\\\" any more than thoy would think of seeing liay- makers in theii\\' verandas, or a sheep sheai\\'ing in their drawing-roo¬¨¬¥is.. But \\' the cliildren of darkness are wiser in their generation than the children of light,\\' and he who sings of nothing but lawless crimes, and sated vices, does wisely to address his song to the inhabitants of an overgrown and luxurious metropolis.\\\\\" *\\' Yes, yes; he is sure enough of sympathy, plenty of dancing daffodils there, ‚Äö√Ñ√Æ only of rather an opposite species. What do you say Miss Neville, do you like the titled Bard ?\\\\\" \\\\\" Quite well enough, as a poet, to wish he had made clioice of better subjects.\"',\n",
       " 'He had not got a penny for two years. He had been obliged entirely to renounce society, and had retired to a garret in the east end, where he lived on bread, salt butter and bloaters. He could not have lived at all upon anything, had it not been that Sydney persistently sought him out, and every now and then pressed a twenty pound note into his hand. The mashers in- spected his threadbare coat with their eye-glasses. \\\\ I\\'m so awfully glad to see you, old fellow ! \\\\\" said Sydney, linking his arm in his. \\'\\' I was wondering, only this morning, what on earth had become of you.\"',\n",
       " 'Hast thou come from the deep M 5 waters to stare at me with those glaring eye- balls, from which death has dashed the light?\" He shuddered. Our hero, for it was he, roused by this sudden enunciation of his name, started from his sleep and seeing the \\\\^ Tecker before him, exclaimed : \" Am I then in the murderer\\'s clutch ? ‚Äö√Ñ√Æ I knew thee. Burrows, on the rock when the lightning passed over thy swarthy lineaments, and thy hatchet w^as raised, which afterwards fell upon my head with such hearty good- will.^\\' \"',\n",
       " 'Do you know, Joyce, you have always been ready to condemn, to misjudge me,\" says he in a low, hurt tone. \" I have often noticed it, yet have failed to understand why it is. I was right, you see, when I told myself last night and this morning that you were harbouring unkindly thoughts towards me. You have not been open with me, you have been wilfully secretive, and, believe me, that is a mistake. Candour, complete and perfect, is the only great virtue that will steer one clear through all the shoals and rocks of life. Be honest, aboveboard, and I can assure you, you will never regret it. You accused me just now of insincerity. Have you been sincere ? \"',\n",
       " '‚Äî A Prophet ; one bearing a message. which seemed to embarrass him, \" but can you reconcile to your mind leaving your companion in the hour of distress. If so, be gone, I say, the counsels of a coward are hurtful to the brave. Such, ought pot to be the case with you, for how often have you not enjoined me to meet adversity with firmness, and now you shrink! As for myself,\" I continued, \" nothing shall draw my attention from the revenge I am anticipat- ing. It shall, it must be completed, or I am crushed in the attempt. Be it a winning or a losing game, I am indifferent to the result.',\n",
       " 'Well, you remember that day, and that you were taken up on suspicion. Greenwood.\" \"Aye, sir, I\\'se never forget it to my dying day.\" ‚Ä¢ \" Did any one believe you had done the deed you were accused of? \" \" I didn\\'t me self, sir ; lors, how could \\'un ? \" \"',\n",
       " 'hed out, which missed Claude, and fell right over Jack, \\\\ Take that,\\'* said ihe old hag, \\\\\"^and [perhaps you will get a little worse, if you don\\'t be jogging while you may.\\'* *< Come, come, old lady,\\'* said Claude, \\\\\"you have got hold of the wrong cus- tomers to try any threats upon. We have made up our minds to ask you a civil question, and we will not only ask if, but we will have an answer to it likewise, or we will have your cottage dowm about your ears.\\\\\" \\\\\" Confound the old hag,\\\\\" said Jack, \\\\\" the has drenched me.\\\\\" f What\\'s your question, idiot?\\\\\" cried the old woman. \\\\\"Ah! now you are talking to yourself, eld girl.\"',\n",
       " 'No one can explain so well as Mrs. Penguin how the mistake has originated, to her I refer you ; for myself, I will say no more, but I repeat that I am innocent.\" \" Mistake ! you young prevaricator ! What mistake could there be in an affair of this sort, except that you mistook the woman you had to deal with ? It was wrong, perhaps, of me to expose you to such a temptation ; but what a fine developement of character has it afforded me ! How has it unmasked the treachery of the pretended friend !',\n",
       " 'She shall not go.\" \" You are not married yet, Cyril,\" said Lilian, laughing. \" My dear boy, why should Marion not go ? \" asked his mother, in surprise. \\'\\' She is delighted at the prospect. It is perhaps the only cliance she will have of going abroad for any length of time. Once married, a girl cannot see much of the world, as the admiral says, and a country curate\\'s wife is especially bound to home.\" \" And do you suppose, mother, that I shall always be a country curate ? \" asked Cyril, with fire. \"',\n",
       " 'It\\'s lovers that mean nothing that I object to ‚Äö√Ñ√Æ lovers, indeed ! Lovers of meats and drinks that they get out of the mistress\\'s pantry ! That\\'s the style of lovers we have so many of. If they\\'d to pay for their galla- vantino^ thev\\'d think twice about it, I\\'d warrant them ! \\\\ Kellie lauo-hed outrioht at this, and \\'Mhs Brewis even o-ave a thin o\\'lo-oie. \\\\\" Well, you may laugh, ma\\'am,\\\\\" she said ; ^\\' you\\'re young, and certainly, for that matter, I\\'m not particularly old ; but wait till you keep house yourself. A house looks j^leasant enough, and sounds pleasant enough ; but when one has to pay for everything in it ‚Äö√Ñ√Æ coals to begin with, meat, taxes, lovers ‚Äö√Ñ√Æ lovers in jam ‚Äö√Ñ¬¢closets even ‚Äö√Ñ√Æ you\\'ll see !\"',\n",
       " \"It was then that your father found me. Chance brought him to my studio, and there his artist's eye taught him at once the value of my work. He was rich, and he was the leader of a certain art circle in Rome. He took me up, and made me known. Commissions flowed in, and I became pros- perous. He introduced me to the beautiful and wealthy young countess, who consented to share my lot, and become the wife of the once penniless sculptor ; and as her husband, my name was made, my fortune secure. ' But I never forgot that to Philip Debenham I owed all my wealth and happiness ; I am not ungrateful, and I never was tempted to forget that fact.\",\n",
       " 'Mother, I want to go home to-morrow instead of going to Boyne Gate ; no. Lady St. Just, don\\'t say that I\\'m tired of you, and don\\'t be angry with me ; I can\\'t be happy until I know why Walter GifFord seems to have foro\\'otten me.\" \" You\\'re not weak enough to waste a thous^ht about a man who even seems to have forgotten you, I hope,\" her mother says, coldly, and the flush deepens on Ethel\\'s brilliant face as she answers: \" Yes, I am ; for I know it\\'s only seeming.\" \" Mr. Giflbrd must be unlike any other fellow in the world if he could forget Miss Heatherley,\" Lord Kenmare says, with a gallant effort, \"though I wish, with all my heart, you could forget him,\" he adds, in a low tone, to Ethel. \" Perhaps I wish it, too,\" she murmurs, for the pertinacious young lover who is present does contrast favourably just now with the apparently negligent one who is absent. And on the strength of these words, uttered partly in pique and partly in idleness.',\n",
       " 'It is not every man who will show his sentiments in a way which satisfies an anxious mother. The Duch- ess, however, was pleased with Winton. His look and tone when he spoke of her daughter satisfied her. He was fond enough, adoring enough, reverential enough to content her ; and how much this was to say ! \" Well,\" she said, \" we will hope you may be right, Mr Winton. You know men and human nature, no doubt, better than I do, who am only about twice your age,\" she added, with a soft Httle laugh. \\'* Anyhow, I wish with my whole heart that you may prove to be right.',\n",
       " 'What do you think, Sir, of that gentleman,\\\\ said Mr. Mortimer, \\\\\" as a husband for your ward r \\\\\" Think, Sir !\\'\\' answered Mr. Riddleton, \\\\\" I feel all of a twitter at the very thought of the dan- ger she has escaped. Only think, Mr. Mortimer, the everlasting disgrace that would attach to me, if a ward of mine should be married to a man who had such an awful propensity to plun- der pantries ; and then to see the number of names by which the fellow goes ‚Äö√Ñ√Æ Frederick Stratton, alias Shepherd, a relation of the no- torious Jack Shepherd perhaps, alias Miller, ahas Smith. What a pity it is that he was not committed for trial and convicted, and sentenced to fourteen years\\' transportation ; I don\\'t like hanging ; Silversides says he does not approve of the punishment of death for any thing but murder, and I am quite of his opinion ; and if this fellow were to be transported for fourteen years, then, perhaps, Amelia might be married before his return, and then there would be no danger.\\\\\" \\\\\" I should not apprehend that there would be much danger now, if the young lady were pro- perly aware of the gentleman\\'s character.\\\\\" \\\\\" Right,\\\\\" said Mr. Riddleton ; \\\\\" right, I did not think of that; she ought certainly to be informed of it.*\\\\\" Forthwith Amelia was summoned, and Mr. Riddleton was handing to her the paper, when he was interrupted by Mr. Mortimer hastily seizing it, and saying, \\\\\" Stay, Sir ; that paper is not altogether fit for a young lady\\'s perusal ; you had better read aloud the information you wish to communicate.\\\\\"\\\\\" Mr. Riddleton was a fidgetty man, and had sudden freaks; and at hearing this, he quickly and pettishly replied, \\\\\"\"',\n",
       " 'he said, with a strong Welsh accent, \\\\ to be up this hour of the morning, and rambling over the hills all by herself. I saw her a while ago from my bedroom window trotting along as comfortable as possible, and as if sbe had known the way from a child/^ \\'^ In which direction was she going V asked Janet^ eagerly. ^^ Why, the road that we went yesterday ; the road that leads to Ben Dulas tarn/\\' \\\\\" Her ladyship is too weak and ill to come back on foot, and alone/\\' said Janet. \\\\\" I will hasten after her, and do you get out the ponies and follow as quickly as possible. I will engage that you shall be well remunerated for your trouble.\\'\\' ^\\'\"',\n",
       " 'Tell it you ‚Äö√Ñ√Æ tell what to you ?\" continued the clown, still beating about the bush, with the oafish waggery that characterized him. \\'\\' Mayhap, ‚Äö√Ñ√Æ mayhap, I say, you know what I be going to tell you. Well, well, don\\'t be angered wi\\' me. I will tell it you. In a word, then, who should you suppose, after all, Colonel Renmore turns out to be ?\" \" Colonel Renmore !\\'* both Jackson and the bard exclaimed. \\'^ Is it of him your news is ? Who should he turn out to be, pray, but himself?\" \"',\n",
       " 'She had no more experience of boykind than if she had been brought up in a desert island. \\'^ Not much ‚Äî about fifteen pounds a year.\" She breathed a sigh of relief. \\'^ But he had better not go till after Christmas,\" Freeland added. \" What could you do with him in the holidays ? Let him come to me for the present, and begin his schooling in January. And I have thought of something else, Miss Helwyse.',\n",
       " 'I have long known that you have a tendency to be so,\" he answered, looking into her bright- ened face with something in his own which was only kept in abeyance by the deep respect this quiet, self-depreciating girl had ever inspired in him, \" but I would not dare to speak of it to you even now, if we were not on the eve of parting for an indefinite time. I have thought that perhaps it might do you some little good to talk for once freely and unreservedly of the cares which weigh upon you, with a friend who, how- ever unfitted in other respects to sympathise with you, may at least claim the right that a very deep and sincere interest in your happiness must surely give him. If I am too bold, Miss Joanna, you must check me. I know that in reality I am risking your displeasure for the sake of what may turn out to be but an imaginary benefit to you.\" \\'\\' My displeasure !\" said Joanna, in a tone that suggested, at any rate to her attentive listener, a whole volume of touching eloquence, \"need I tell you, Mr. Oliver, what sympathy and kind- ness are to those who exist in a lonely world, who feel that they are less than nothing to those, around them, who know that the fault is in themselves, and yet have no power to mend it ? Ah, you cannot guess what it is to me even to be admonished or reproved by anyone who is sufficiently interested in me to admonish or reprove me as a friend.',\n",
       " 'I see you have both dined ; so, do you, Harriet, put the plates which have not been used into that cupboard, and also any of the knives and forks that are clean ; take care that you have only the clean ones. Fanny will help Jenny to carry the others into the kitchen and wash them ; and when all is done we will go into the garden. Harriet did as she was desired ; but slowly and sorrowfully : and before she had finished, her sister and the servant had cleared the table and taken away every thing. When she turned round she perceived her mother sweeping up the crumbs with the hearth-brush, and gazed on her with silent astonishment. Soon after they went into the garden, the ornamental part of which, was not in very good order, fo¬¨¬™i\\' there was no one to take care of it but an old peasant, the father of their servant Jenny ; and he could not attend to the flowers, though he had his cab- bages and sallad in excellent condition, and ex~ hibited them with great pride to his mistress. Mrs. Maynard then told her daughters, that, for their pastime, she would assign to each a share of that part of the garden next the house, which she hoped they would take good care of: and desired Harriet, as the eldest, to make her choice between the flower plots and the straw- berry beds. Harriet said that she did not un- derstand the care of either; but, on her mother telling her that she must learn, and that the old man would instruct her, she chose the flowers. \\\\ I myself,\\\\\" said Mrs. Maynard, \\\\\" will under- take the care of this little arbour ; and Fanny shall be mistress of those strawberry beds, which I hope her care will render very productive.\\\\\"\"',\n",
       " \"You shall stay and behold the husband of my early choice, and then I wish you not * To stand upon the order of your going, But go at once.' For the truly- noble Ashton family bids me assure you, that their vengeance is ‚Äö√Ñ√Æ VOL. III. H forgiveness! forgiveness ! Go, then, and scouted and despised, as ye will be, in every society^ go !\",\n",
       " 'I am ashamed to tell even you, what fran- tic purpose was for the moment in my heart, as I lifted her to it, and held her there, forgetful of every thing but herself! ‚Äî all that this world con- tains besides, was vanished. My aunt\\'s 14. thrilling voice recalled me to reason : never shall 1 forget the words with which she \"adjured me ‚Äî the names she em- ployed, to fright me at my own emotion 1 Many things then passed between us, over the unconscious form of Lolotte, which if they have rooted some fond re- grets more strongly than ever, will, I trust, prevent me from sinning against holier convictions.*\\' Adhemar\\'s voice shook at the conclusion, and precipitating his face in his hands, he yielded all at once to one of those passionate bursts, the more violent from their infrequency, which never, until Clarence became known to him, had he suffered human eye to witness. His friend waited with a pitying heart, until the tempest died away of itself; then anxious to relieve the fears he felt for Lolotte, enquired, whether she were altered from illness, or mere dispirited- ness. \" Dejection has begun it ‚Äî death, I fear, will end it !\" de Bourbon said se- verely. \"',\n",
       " 'The storm and tempest of passion past, and hope and confidence came again ‚Äö√Ñ√Æ that all things, even this last, most bitter cup, were ordered for his good. Almost immediately on leaving the cottage, he had sent a note to Miss Shepherd, to beg that Isabel might not be distressed about him. He would not conceal from her, he said, that it cost him a pang to resign her, which was best struggled with alone; but that, in the evening, he should be quite himself, and he hoped he might come to her again, and assist her, if it was in his power. Isabel sate in the same place, in the bright twilight of that evening, awaiting Herbert\\'s return. The hours had passed ‚Äö√Ñ√Æ how she knew not; she was too wretched even to think. And again he stood before her, and, as he took her hand, he smiled upon her. Though he tried, however, to the uttermost, he could not efface the marks which the struo^orles of the day had left upon his face, and she shud- dered as she saw the deadly paleness of his cheek. \\\\\" FullChadwyckBritishParse/2300.csv\"',\n",
       " 'And thus, having utterly failed, he got up and took his leave. But the worst of the matter was, that, in going home, he could not divest his mind of the idea that there might be some truth in the report. What if Lord Dumbello had gone to the Continent resolved to send back from thence some reason why it was impossible that he should make Miss Grantly his wife? Such things had been done before now by men in his rank. Whether or no Mrs. Tickler had been the letter-writing wellwisher from Littlebath, or had induced her friend to be so, it did seem manifest to him, Dr. Grantly, that Mrs. Proudie absolutely believed the report which she promulgated so diligently.',\n",
       " 'To make, therefore, an end of all reflections at once, I warn you, Robin, that if she is not found, and resto- red to her rights, in less than a fortnight at farthest, you need not be surprised if ijou are some day removed on as short notice as you gave to her.\" The old lady and farmer had an inward vievi^ of matters in a different light : They perceived that the world would say he had brought her back to keep her there as his mistress, but this elegit and inflated ha- rangue thev were unable to answer. The young man\\'s conscience was hurt, and they were no casuists. The lady, it is true, ut- tered some involuntary sounds as he was speaking, but it was not easy to determine whether they were groans or hems of ap- probation. If one might have judged from her countenance, they were like the for- mer, but the sounds themselves were cer- tainly modulations of the latter.',\n",
       " 'and guess the measure of their stomachs too.\" \" My lord, you hut insult me,\\'^ answered de Coupland. \" Tis you who command here now. I am thrice a stranger.\" \" Be it so, then, if thou wilt.',\n",
       " 'My professional experience, I own, inclines me to hail thankfully any lessening of the load of human responsibility.\" Dr. Symes drew himself up short. He became aware that he had wandered away along paths of metaphysical speculation, to a wild and unfamiliar region, through which courtesy hardly sanctioned his in- viting Mrs. Farrell to follow him, in her best gow T n and grey kid gloves. \"But really,\" he said, with his blandest smile, \"I trespass on your forbearance most unwarrantably. I advocate recrea- tion, and then proceed to w r eary you with recondite and, I fear, unorthodox questions. Forgive me, Mrs. Farrell.',\n",
       " 'What can I do ? Whatever it is, I shall be only too glad,\\\\ returned Mrs. Chambers effusively. \\\\\"Well, my dear, I\\'ll soon tell you. You recollect Captain Fairfax of the Hussars ? \\\\\" \\'‚Äö√Ñ¬¢ Yes, of course I do ; a dark young man, who won the Arconum cup, and spent all his time out shikarring.\\\\\" \\\\\" Exactly ! but he found time enough to be very rude to me and T wish to pay him off somehow.\\\\\"\"',\n",
       " '‚Äö√Ñ√Æ for it is the sig- nal for my doom ‚Äö√Ñ√Æ the signal for my tearing filial duty from my breast for ever ! \\\\ I go through James\\'s pantry- window North hastens me . . . .Oh, Julia! fain would I linger here a little longer; ‚Äö√Ñ√Æ for here I have known many blessings I Where I am going, Heaven alone can tell what misery may await me. Mine are like the awful sensations that attend the translation from life to eternity More shot against tlie window ! Mandeville is impatient ! ‚Äö√Ñ√Æ He cannot feel as I do, or he would court delays.\"',\n",
       " 'The Earl was silent. \" Am I right ?\" \" You are.\" \" I thought so.\" \" But against my knowledge and will.\" \" That was evident from thy speedy reappearance on the ground to quench the flames; and by saving the lady. But the poor child, whom thou didst save so nobly from one death in the morning, died by another at night. It seemed as if God so will- ed it.',\n",
       " ' Ml/ son (I acknowledge with you, Sir, that he begins to appear a very apochryphal per- sonage) will probably inherit his father\\'s predi- lections ; and had you sent me parsonaging into the marshes instead of Joseph, I should have been far more likely to return to Heddeston with an ague caught in snipe-shooting than with a vulgar wife caught in \" \" Aha ! the truth is out then ; you do think her vulgar ! \" interrupted the old man with glee, spitefully chafing his lean hands. \" Pray now, Charles, is Lady Maria dark or fair, tall or short ? When I expressed my original disapprobation of your marriage with a poor nobleman\\'s daughter, I certainly had not dreamt of your brother\\'s matching with a poor clergyman\\'s.\\'^ This was the first inquiry Sir Claude had ever hazarded touching his aristocratic daughter-in- law, and the opening appeared to her husband highly propitious. \" Maria is a remarkably graceful, elegant woman, Sir, without being strictly beautiful.',\n",
       " \"When that good woman was in a sound sleep, the door of the room where Pauline slept opened again. The girl emerged just as she had re- entered it, except that her face was white again ; and creeping slowly and quietly along the corridors, (she almost stopped her breathing as she passed Peggy's door,) she groped her way, this time, to Miss Kennedy's door. The room was still Ughted up, as Pauline saw through the key-hole. She gave the slightest tap possible, but it was enough. 'Who's there?' asked Di. ' Me ! if you please.' Miss Kennedy probably did not recog- nize who me was ; but the voice was so low and timid that she experienced no fear in opening to the intruder, which she did at once. '\",\n",
       " 'A man, Julian ‚Äö√Ñ√Æ especially a famous man like you‚Äö√Ñ√Æ ought to know how to control himself\\\\ Julian burst out laughing bitterly. \\'* Send upstairs for my self-control,\\\\\" he said. \\'\\' It\\'s in her possession ‚Äö√Ñ√Æ not In mine. Good morning, aunt.\\\\\" He rose from his chair. Lady Janet instantly pushed him back into it. \\\\\" I insist on your staying here,\\\\\" she said, \\'* if it\\'s only for a few minutes longer.\"',\n",
       " '\"If you wanted me to mention that to him, you should have said so; and I\\'m not sure that I shouldn\\'t have obeyed your instructions. But I understood that you regarded him and his flirtations with absolute indiff\\'erence.\" \" That only means that you are vexed with me, as well as with him, and that you won\\'t stir a finger to help either of us. I thought you were a better friend than that, Phil.\" \"I am a friend Kke another,\" I replied crossly (for, I suppose, the truth was that she had drawn a fairly accurate sketch of my mental condition); \"only it seems to me that friendship implies some sort of recip- rocity. I have told Hurstbourne over and over again that he will be an ass to propose to Miss St George ; what more can I do ?',\n",
       " 'He replied \" Most probably, shoot himself through the head, if he has not some religious scruples to stay his hand. Why, he has not a sous to support him, independent of his commission. Then, quitting the army in the midst of this glo- rious war, and in disgrace, too ! I see no other alternative for the poor devil. ^^ Well, Aigline, these are all the ^particulars I could acquire; their meagreness, and my total ignorance of military law, will cause you to pro- nounce, as I myself do, that my intelligence is very unsatisfactory. However, one thing is cer- tain, the inquiry is to commence to-morrow, and there is a powerful party against Mellish, so if he cannot obtain the money almost instantly, I verily believe that his fate will be decided ; and that,^^',\n",
       " 'He writes as if he thought so highly of you, and yet he wants you to go all the way to India, and do a great deal of difficult work, and be exposed to great danger. Why should he want you to go 1 You can stay very comfortably at home ; and surely there must be people badly enough off not to mind going so far, and working so hard.\\\\ \\\\\" You have no wish to see me Governor of S V* \\\\\"No, not if being Governor obliged you to leave High Combe, and live in India. I should think you very silly if you went there, and very unkind to me.\\\\\" \\\\\" Well, give me the letter back. I have made up my mind to decline the appointment. I am going to London to-day to see Lord Mertown about it.\"',\n",
       " 'A few moments\\' attentive listening convinced them that the dreaded noise was but the gnawing of a mouse, and with a general hearty laugh at their common fear, and the trivial circumstance that caused such agitation, they soon resumed their places, and forthwith fatigued nature renewed her cravings for repose. Just then the old castle clock had struck its portentous twelve, but yet no ghost appeared, and though not one of the party was sufficiently courageous to suggest that they should retire to their different bedrooms, to enjoy the sleep they so much needed, yet all were unanimous that it would be very foolish indeed, even if possible, to stay awake all night. \\'‚Äö√Ñ¬¢\\'‚Äö√±‚Ä† Let us watch in turns,\\\\ says Fitzgerald, *\\' one hour each ; one awake to give the alarm, the other two asleep, and let us cast lots to see who must watch the first hour. ** Agreed,\\\\\" said the other two ; and soon the lots prepared and drawn constituted Mortimer 0\\' Sullivan the first hour\\'s watcher. Whereupon, taking an old book, entitled Marx^ 0\\' Sullivan^ her Friends and Influence, written in two volumes, from a bracket in the room, he sat down to read.\"',\n",
       " 'Think, if it will lighten your pain, that at the last I was touched by your goodness, your nobility, and that I regretted ‚Äö√Ñ√Æ that if I could, I would have made you happy. Think of me as the old impulsive Nadine, who knew herself, but who for once did not yield to an impulse which would bring you sorrow ; for we should only bring each other sorrow, of that I am sure in my heart. Though I cling to you, for I cannot bear to let you go, I know that we are best apart. I must go my way; I must fulfil my bent. You remember what I said always ‚Äö√Ñ√Æ ^ My nature is my destiny.^ You in time might become a shackle that I should hate.',\n",
       " 'Mafier Benfon and Charles at cards. i>ENSON. An ace, you must give me four. Charles. (Counting them reluctantly) One ‚Äî two‚Äî three ‚Äî four. Oh!',\n",
       " 'But he really was most kind and obliging and took care of lots of people ; in fact but for him I should have got squeezed to death in the crush. You know there was a sort of cold collation in the studio, not a stand up nor a sitting down breakfast.\\\\ \\\\\"What, not a sitting down 1101^ a stand up ? \\\\\" repeated the duke, bewildered. \\\\\" How silly you are, Cas ! I mean every- thing on trays and in odd corners, don\\'t you know ?\"',\n",
       " 'Juliet could not rest. Every sound made her start ; every step in the corridor made her tremble. Hope whispered that, before they set out, Montague would be there ‚Äö√Ñ√Æ would explain all. Yet, how could he explain ? no matter ! love and faith are strong in woman*\\'s breast, and for a time they upheld Juliet. But shortly disappointment filled her heart with a vague resentment. \\\\\" FullChadwyckBritishParse/2703.csv\"',\n",
       " \"The reason is very plain. Wisdom is a good thing, but it cannot do the work of experience ; the greatest blockhead in the world, if he had been to the moon, could tell more about it than the cleverest astronomer who had only studied it through a telescope. Now, with sentimental young men, unless they are mar- ried early, the state of matrimony is the grand illusion of life, and it colours every- thing. Marry them, and you strike one falsehood out of their minds, and leave them readier for the clear cold liofht of pure thought. You think so, don't you, my child ? ' * I hardly know what to say,' Mercy answered.\",\n",
       " 'Edith,\" she continued, clasping her hands tightly, and dropping her voice, \" only God knows from what horror you have saved me. At first I was so overwhelmed with shame that I thought ‚Äî I thouglit of ending mj misery, you know ‚Äî death is a coward\\'s last resource ; you know too how you came and saved me from that last awful guilt.\" \" Oh, Dorcas, it could not have been so terrible as that,\" almost whispered the other. \" It was. I felt as if I had lost every- thing worth having. You, standing so high, so faultless, stooped to me, and held out your hand and saved me.\" \" Dorcas, you must not think me so faultless. I was not generous enough to forgive you at first.',\n",
       " 'My humour is satisfied,\" said Rachel ; \" and I forgive him, though I care little for his friendship.\"\\'\"\\' \" Forgive !\"\\'\"\\' said the Rapparee ; \" that should be my part.\" \" Now, out upon thee for a gallant ! But where should gallantry be learned in the bogs ?*\\' \" It has not been wanting there, as English courts of old, and more than English courts, could tell,\" still argued Ulick. \" Then the bogs have degenerated,\" said Rachel. \" They have truly, since the daughters of Erin make a mockery of its sons, and prefer to them the smooth-bearded and the wily Saxon.\" Rachel\\'s colour here arose, and her pride fell.',\n",
       " \"Those contents were a song adapted by her lover to one of the old ballad airs of the country, which Lilly had often sung to her harpsichord (when the young gentleman was not present ‚Äö√Ñ√Æ for she was far too scrupu- lous to flatter his vanity at any time by letting him hear how she honoured it)^and which, as Lilly did think it worth singing, we shall venture to transcribe : ‚Äö√Ñ√Æ THE WANDERER'S RETURN. IVe come unlo m.^ home again and find mj'self alone ‚Äö√Ñ√Æ The friends I left in quiet there are perished all and gone ‚Äö√Ñ√Æ My father's house is tenantless ‚Äö√Ñ√Æ my early loves lie low ! But one remains of all that made my youthful spirit glow ‚Äö√Ñ√Æ My love lies by the blushing West, drest in a robe of green. And pleasant waters sing to her and know her for their queen The wild winds fan her face, that o'er the distant billows come ‚Äö√Ñ√Æ She is my last remaining love ‚Äö√Ñ√Æ my own ‚Äö√Ñ√Æ my island home. II. I know T've not the cunning got to teil the love I feel, And few give timid trutL tLe faitU they yield to seemingzeal.\",\n",
       " 'Nobody is particularly inclined for music, or for whist, or for a round game ; and it usually ends in nothing but talk, and everyone is ready to go pretty early to bed. \\' Next morning at breakfast one of the features will be the inevitable nursery letters that somebody or other will be sure to receive. First the child\\'s letter : \\\\ Nurse\\'s duty, and the children are quite well and very happy. Master Charles is riding on a stick, and Miss Molly was so pleased to get dear Mamma\\'s letter, and they both send their love and many kisses to dear Mamma, and Master Charles wishes to know when Mamma is coming home again.\\\\\" This letter of course ends with the inevitable row of kisses ; sometimes expressed by x x x x x , and sometimes by o o o o o o, according to the taste of the young scribbler. Also the inevi- table blot or smear, with \\\\\" Master Charles made that blot,\\\\\" written underneath it. 6\"',\n",
       " 'You have not outgrown St. Paul : \" said Mr. Nicholl. \" I suffer not a woman to speak in the church.\" \" Ah, yes,\" Lady Mary exclaimed. \" She is banished also from the assembly of saints.\" \" XW religious and philosophical teachers, in- cluding St. Paul,\" said Mr. Pynes in a hard, dog- matic tone, \" are unanimous on this point. It only remains for us to show that this exclusion from all participation in active life and in- tellectual exercise is not derogatory.\" \"On the contrary,\" exclaimed Otto Yenning eagerly; \" it is in the highest and divinest degree honourable to womanhood.\" \" }.Ir. Yenning, allow me to introduce you to Professor Goldworthy Fynes : \" said Lady ^Mary. The two men shook hands warmly, and Mr. Yenning turned to speak to Mrs. Brownlow. \"',\n",
       " \"or when he roasted it ? or when he peel'd, or when he brought it home ? or when he digested ? or when he ? For 'tis plain. Sir, if the first picking up of the apple, made it not his ‚Äö√Ñ√Æ that no subsequent act could. Brother Didius, Trihonlus will answer ‚Äö√Ñ√Æ ( now Trihonius the civilian and church lawyer's beard being three inches and a half and three eighths longer than Didius his beard ‚Äö√Ñ√Æ I'm glad he takes up the cudgels for me, so I give myself no farther trouble about the answer).\",\n",
       " 'But I am better, thank God ! and Chambers will pull me through, if man can do it. Meanwhile, let me do my business, as I said, while my mind is clear. I shall be the easier and get on the better.\\\\ \\\\\" Yes, sir, all right. I will attend as w^ell as I can.\\\\\" Mr. Dashwood was the possessor of various family secrets.\"',\n",
       " 'In the midst of these calamities,\" he continued, \" not unknown to Mr. Strick- land, he quitted England, and continued in France on liis own private business for two years, leaving me to struggle on as well as I could with difficulties almost insurmount- able. Having thus exposed all the neces- sities of the house, I solemnly declare that all the monies temporarily raised by me were applied, not in anyone instance for any sej)arate purposes or expenses of my own, but in every case they were immediately placed to the credit of the house in Fen- church-street, and applied to the payment of the pressing demands upon it. This fact does not rest on my own assertion, as the transactions referred to are entered on the books now in possession of the assig- nees, and to which I have had no access since my apprehension. These books, I understand, are now in Court, and will confirm the truth of my statement ; and to whatever account all the sums may be entered, whether to that of stock, of exchequer bills, or to my private account, the whole went to the general funds of the banking-house. I have been, I know, accused of extravagance in the pubHc prints. I take heaven to mtness, that in my private expenses I have strictly kept to the proceeds of the Elsmere property. All my friends know how I Hved.',\n",
       " 'He seems a fine specimen of a real Irish gentleman ; and she is still a very handsome woman.\" \"A ruined horse-dealer, now principal partner in Macer\\'s gambling-house; and a broken-down actress, Avho married him under false pretences. My dear fellow, what a nest of sharpers you have got amongst ! Now tell me honestly, had you any play, or did they keep you in ignorance of their practices, so as not to land their fish before he was thorouo;hlv O -J gorged ?\" \" Why, we played, certainly. I had a turn at ecarte with the Count.\" \" And he won of you ‚Äö√Ñ√Æ ?\" \"',\n",
       " 'Your arm should have been lifted against the general or me, not your amiable, unof- fending, aiid, I must say, angelic niece.\" If Lord Shirley had wished to revenge Catherin e\\'s wrongs to the utmost, he could not have succeeded better than by giving such praises to the being towards whonx she \\'\\' Well, this I was not prepared for,\" she at length faintly articulated. \\'\\'I thought, at least, I had a friend in you, my lord/\\' \" And so you have, madam,\" replied Lord Shirley, a little moved by her di- stress ; \" and so you shall find me, if you vill let me know how I can serve yotu Else why did I instantly obey your sum- mons?\" *^ True ‚Äî very true,\\'\\' sighed Mrs. Bayn- ton, \" This, then, my lord, is my bu- siness with you.',\n",
       " 'No, sir ‚Äö√Ñ√Æ I am afraid not,\\\\ answered Sidney, rather eagerly; \\\\\"it is absolutely necessary that I should return to London directly.\\\\\" \\\\\" Aye,\\\\\" replied Dr. Summers, \\\\\" it has been very dull for you here, no doubt- town is preferable, even though you may live in a garret. But hold,\\\\\" he added, a moment afterwards, as he saw Sidney about to leave the apartment, \\\\\" I have something to ask you ; the other night, when you were at Mrs. Oliver\\'s, 1 was sent for by a Mr. Cummins, of Brook Cottage, whom it seems you have been attending during the last month‚Äö√Ñ√Æ do you know any- thing of him ? ‚Äö√Ñ√Æ he is a stranger to this place, is he not 1\\\\\" \\\\\" I behove so,\\\\\" returned Sidney, \\\\\" at least, I gathered as much from his conver- sation. He and his daughter are the guests and relations of old Mrs. Henrich, who is the present tenant of the cottage.\\\\\" \\'^ Humph !\\\\\" said Dr. Summers, in a dis- satisfied tone, \\\\\" no more than that ? and he has as many whims as a Crcesus might have.\\'^ \\\\\"\"',\n",
       " 'You don\\'t speak, Beresford. What are you thinking of ? \" \"I am thinking of Aunt Dumbarton,\" replied Mr. Conway. \" She is a subject for reflection.\" \" She is a subject for bad language, I think,\" retorted Eva. \" It will be quite a happy family gathering. Cousin Fanny, I congratulate you.\" \" It is hard, is it not ? \" asked Mrs. Wilding patlietically.',\n",
       " 'lie will break every bono in your body if you attempt that,\" retorted Lord reuchurch. \" I never saw any one that could match him in strength and extraordinary activity. No, no, let me meet him, and assure me the first shot, he will never require another.\" The Colonel thought for a moment, and then observed ‚Äö√Ñ√Æ *^ Perhaps you are right ; but do you know who is to be his second :\" \\'^ I never bestowed a thought on that sub- ject,\" answered his lordship ; ** some city apprentice, 1 suppose.\" **',\n",
       " 'Because, amongst other things, certain lies have been put in circulation about Mr. Bethune, and I wished to know where they arose. Now I am beginning to guess.\" For an instant Mr. Courtnay Fox seemed some- what disconcerted ; but he betrayed no anger. \" Come, come,\" said he, with an affectation of good humour, \" that is a strong word. Morris heard no lies from me, I can assure you. Why, don\\'t we all of us know who and what old George Bethune is ! He may flourish and vapour successfully enough elsewhere ; but he doesn\\'t impose on Fleet- street; we know him too well.',\n",
       " \"* Eeally, my dear Edward, you ought to begin to think of some definite course,' said the father ' It may be too late for a profession, but the Govern- ment offices ' 'Eed tape and drudgery, with a salary that would scarcely aff'ord dry bread and a garret,' inter- rupted Edward contemptuously. ' Xo, my dear father, as a poet I will stand or fall.' ' I'm sorry to hear it,' sighed the Vicar, ' for at present it looks like falling.' What Edward really meant was that he would depend upon his father until the public and the critics, or the critics and the public, could be brought to acknowledge him as one of the new lights in the starry world of imagination. Mr. Clare under- stood this, and felt that it was rather hard upon him as a man of limited means. Edward arrived at Hazlehurst only the night before Mrs. Treverton's dinner-party. '\",\n",
       " \"http://www.archive.org/details/childwidow01will CHAPTER I. APARTMENTS. Moving reluctantly along the narrow passage which was ordinarily dignified by the name of ' hall.' the dim light that filtered through the small thick panes of glass above the door falling on her upturned face in chastened rays, Millicent Bell's expression was a strange mix- ture of decision and doubt. The first feeling seemed the more dominant as she advanced, and, drawing forward a chair, mounted upon it ; then fixed a board on which vol. i. 1 the word ' Apartments ' was inscribed, so that it might be seen from outside : but the latter was also very apparent as, her object achieved, she turned to retrace her steps.\",\n",
       " 'Might life not yet be made to expiate the recollection of this accursed stain which seas would not wash out ? Could happi- ness be possible again ? Would Kathleen ever look upon him, except to loathe and hate his very sight ? \"Ah ! Kathleen, Kathleen, my poor, poor wife,\\'^ he cried out in his agony, \"why didn\\'t I heed your darlin\\' voice when you bid me not go from you that time ?',\n",
       " 'Our best may be very bad,\" laughed Erskine ; \"if so, you must show us how to better it. Tiny.\" \\'\\'I should get Tin}^ to teach you how to treat a lord, dear,\" said Euth, wlio saw nothing to laugh at, and seemed likely to lend her husband a severer support than the occasion needed. \" Say Lord Manister ! \" suggested Erskine. \" Will you show me on him ? \" \" I may if you\\'re good ‚Äî you wait and see,\" said Tiny lightly. And lightly the matter was allowed to drop.',\n",
       " \"This time it was none other than a Lady of Quality ‚Äö√Ñ√Æ a Grande Dame de par le monde. She came in splendid attire, sailing into the studio like some richly-adorned pinnace or royal yacht. A lady of a certain age, but still comely in the eyes of man. ' Lady Frances ! ' cried Alec. ' This is, indeed, unexpected. And ^^ou know that it is the greatest honour for me to wait upon you.' ' Yes, yes ; I know that.\",\n",
       " 'Your chastity, 1 swear to you, shall run no risk in that time from me. But on the slightest noise at the door of the chamber, on the least opposition on your part, or any other, on the least attack upon myself, the three balls with which each of these barrels is charged shall dispatch you and your infant at once. This I swear by my hope of salvation !\\\\ The landlord and his wife would sooner haye ex- pected the dissolution of nature than such an address. Both were silent for a minute, and then both did all they could. The woman piteously entreated Tottleben to permit her to go, threatened to swoon, to fall in labour on the spot, nay even to die ; but in vain. The husband was first at a loss to conceive what all this meant ; he then had recourse to entreaties and protes- tations, assuring the Count that he was safe in his house as though he were in Abraham\\'s bosom.\"',\n",
       " '\"It ought not to be, Sir,\" replied my friend in a very modest tone. \"Ought not to be. Sir!\" Mr. Sykes returned, with some degree of sar- castic warmth ; \"then, Sir, how must you have spent those days of innocent mirth, not to be able to look back on them with envy !\" This sarcasm roused the spirit of my friend Lewellin, who, though mild, was not disposed to be run down by unprovoked insolence; and he said, in a tone somewhat elevated, \"Then I presume. Sir, you look back to the days of your childhood, and sigh over joys departed, never to return ; but permit me to ask, how have you spent the years of manhood, not to have yet attained the possession of a much more rational and exalted happiness than you enjoyed when you were flying a kite or spinning a top? If you think, Sir.',\n",
       " 'I shall not again transgress ‚Äî not, at least, if I see you are of the same mind ‚Äî but I want to be of use to you. You will not refuse me this pleasure. And who knows ? \" ‚Äî smiling ‚Äî \" I may grow strong enough to transplant you into that division of the heart where brotherly affection only flourishes Myra, you frighten me. You look so awfully white, and Are you sure you are not making some mistake ? \" \" No,\" she returned, in a low tone, but firmly. \" I will never be your wife, Jack.\"',\n",
       " 'See what a fine situation your brother has got ! He has na been at home since he went to the college. O he \\'s a good boy, Stuart, and I am sure that he \\'11 do well.\\\\ \\\\\" It is very odd,\\\\\" said James, wishing to change the subject for a little, \\\\\" that Stuart never writes me. You told me that you saw him in Glasgow, but what more ? do Colin Dowell and he still lodge together? and are they as brotherly as ever ?\\\\\" \\\\\"\"',\n",
       " \"while she, alas ! en- couraged him, listened with interest to his pointless anecdotes, laughed at his feeble jokes, remained for an unconscionable time alone with him in the garden after dinner, and finally gave him a rose to take away with him. At such times as these Claud would inwardly rage and fume, heaping vituperative epithets upon himself and others, and declaring to himself that the girl was a heartless coquette, that he had been a fool to take her seriously, and that he would assuredly do so no longer. It was all supremely ridiculous, no doubt ; but it seems just possible that some reader of these words may remember to have been almost as absurd himself, once upon a time, and will therefore make allowances for Claud's tem- porary idiocy. Moreover, Nina was unques- tionably even more capricious and perplexing in her ways than the generality of her charm- ing sex. One day she would be melancholy, dreamy, sentimental ; the next she would affect a hardened disbelief in all the finer feelings of our nature, and would nip every approach to tenderness in the bud by laughter too hearty to be feigned. Sometimes she was silent ; sometimes she was discouragingly friendly ; sometimes she looked bored, and confessed that she was so with every appearance of sincerity.\",\n",
       " 'What is your objection to being intro- duced T \" I have none. I simply prefer to be left here quietly.\" \" I wish you would consent to oblige me, Miss Sharland. I feel so proud of J you, and his lordship admires you exces- sively ; and I wanted, if possible, to help him out of a difficulty.\" \\'^ Indeed ! and pray what use did you intend making of me T \"Why, you see they are getting up theatricals at Waterpark, and they are in a terrible mess for a good leading lady. Now you know you are a dab hand at it, and he wants to ask you to take the prin- cipal part.\" \"',\n",
       " 'Even to myself I am pitiless at such times ; but if I am trusted and borne with, and not provoked by injustice or misunderstanding, I can act a tolerably amiable part.\" \" You need not fear that I shall ever pro- voke your anger by unkindness,\\'\\' said her companion, now assuming the humility of the q3 lover. \" I should not dare to treat you with indijfference, much less with injustice. You have been too long the one bright star of my life to become ever an object to be regarded carelessly by me. You will be to me always the one being on earth for whom I shall entertain the same feelings of ardent love and attachment. Heaven knows what I have suffered for you during the last year ! Ay, for the last year, for you had been in my thoughts long before I dared to breathe a word of my love to your father or yourself. My love for you during many months has been of the most intense description, and you must excuse me, dearest, if it has led me into any unreasonable observations.',\n",
       " \"Some- times, I am angry, and sometimes disquieted, and, though Mary does everything she can, to reconcile her different duties, 1 miss her many a time in what the bairns say ; for Janet has now^ a greater share of the talk in the nursery, than mamma ; and the little girls make no secret of their lamentation, that mamma is not with them, as she used to be, and does not hear them their lessons any more. Mary has a hard task of it, my dear sister ; and I do not think that Lilliesleaf himself approves, though it is all done to please him. But, whether it is right to please her husband, at the expense of her bairns, and to the wasting of the estate, is a question I do not like to consider, though it presses on my mind every day. I never had any such temptation ‚Äö√Ñ√Æ but I believe a woman who is as fortunate as I have been, or as my son Claud's wife is, is very apt to be a hard judge of others. To think of me judging Mary hardly !\",\n",
       " \"How ? What humbuggin' stuff askin' such a questyin ! Han't we all equil shares in 'em ? Coorse we have. Tharfor, them as wants 'em, must pay for 'em. An' they as wants 'em so bad as to do shootin' for 'em, surely won't objeck to that. Theer appear to be four candydates in the field ; an', kewrous enuf, they're set in pairs, two for each one o' the gals.\",\n",
       " '\" cried Emily. \\'\\' My pride has been sufficiently rebuked by finding myself in need of the kind- ness of one to whom it had been unjustly ex- hibited. Be your own indiscretion visited, in its turn, by a little compunction for having driven me to the resource of hauteur as a gua- rantee against intrusion. My situation at Mr. Hanmer\\'s is a peculiar one. Without intending to wound my feelings, he gave me to understand, on learning our first interview ‚Äö√Ñ√Æ but we will say no more about it! ‚Äö√Ñ√Æ War is over! ‚Äö√Ñ√Æ',\n",
       " 'If you want a larger allowance you can apply through the lawyer. At the same time, I may as well say at once that any attempt to interfere witli me or mine, or to identify yoiu\\'self with us, will only have the effect of de- priving you and your sons of all support from the Brassingham estates.\" His tone was cold and measured. His words stabbed her through and through. He stooped, not to take her in his arms, not to whisper some gracious words of hope and peace, but only to disengage her clinging arms from liis sturdy limbs, and free him- self from her embrace. She had staked all upon one venture, and she had lost. She had heard he had not loved his wife.',\n",
       " \"Joyful, indeed, is the Major, and assiduous ; Peggy looks demure, taking care not to meet the grave glances of her friends ; while the Baby, serious, unconscious, regards in an impressed kind of way the great panoramic town and its background of mountains. Mrs. Three- penny*bit has declared herself quite charmed with the Baby, Her ingenuousness, she affirms, is as sweet and fresh and wholesome as the flowers in a cottage garden. There are no underhand ways about her. Her eyes never say two things at once. She wouldn't sit in corners, and speak low, and ignore a whole room-full of people for the sake of one. And so forth. It is curious to notice how envy crops up on the most unexpected occasions.\",\n",
       " '‚Äö√Ñ√Æ and I\\'m blowed if I think Jack Ketch himself would like to have to do with such a fel- low !\\\\ Smedley began to whimper and snivel; while the Burker, deliberately drawing forth his dreadful\\' looking clasp-knife, proceeded to cut the chords of the box which was in the attic. He opened it : he fSund all his money safe; and his eyes glistened with a savage joy as he resumed possession of his gold. He continued to ransack all the contents of the bos : but he found therein nothing else worth taking. \\\\\" Where\\'s -your own money ?\\\\\" he demanded of Smedley. \\\\\"Here, I suppose!\\\\\" and he caught up the pantaloons which the gold-beater had been wearing, and which were lying over a chair.\"',\n",
       " 'Nay ; you hold jowy silence, Folle-Farine.\" She did not move ; her upraised face spoke with- out words the passion of her prayer. ‚Äö√¥¬∂ *\\'\\' Save him ! ‚Äö√Ñ√Æ save him ! So little, so you say : and the gods will not hear.\" \" The gods are all dead, ‚Äö√Ñ√Æ Folle-Farine.\" \"',\n",
       " '‚Äî you can\\'t prove it ; you sailor people can only assert a thing, and then swear fifty oaths that it is so ‚Äî you can\\'t prove it, I say.\" \" \\' Prove it !\\' Yes, I can prove it.\" \" Stuff! no such thing.\" \" But I say I can.\" \" You know you can\\'t ; or if you can ‚Äî do it.\" \" Well, so I win ‚Äî Now let me see, what was it about?\" \" What ‚Äî was ‚Äî it ‚Äî about?\" repeated Lady Sap- phira, trjdng to recoUect herself in vain. ‚Äî \"',\n",
       " 'He, too, was breathless, his whole physical being agi- tated, his head hot and throbbing, his heart choking him. He could not speak to the Duchess, whom he met a moment after coming along the corridor with a packet of papers in her hand. \\\\It is all over,\\\\\" he said incoherently, waving his hand as he passed her. The only idea in his mind for the moment was of in- dignity and wrong. CHAPTER IX. ACTING FOR HERSELF. The Duchess\\'s little sitting - room had not for years enclosed so melancholy a group.\"',\n",
       " 'Every trick, every subtle invention to cheat the enemy that I could read of, I treasured up carefully, being fully impressed with the notion that roguery meant law, and equity was only another name for odd and even. \\\\ My days were spent haranguing special juries of housemaids and laundresses, cross-examining the cook, charging the under butler, and passing sentence of death upon the pantry boy, who, I may add, was invariably hanged when the court rose. \\\\\" If the mutton were overdone, or the turkey burned, I drew up an indictment against old Margaret, and against the kitchen-maid as ac- complice ; and the family hungered while I harangued ; and, in fact, into such disrepute did I bring the legal profession, by the score of annoyance of which I made it the vehicle, that my father got a kind of holy horror of law courts, judges, and crown solicitors, and absented himself from the assizes the same year, for which, being a high sheriif, he paid a penalty of ¬¨¬£5 00. \\\\\" The next day I was sent off in disgrace to Dublin to begin my career in college, and eat the usual quartos and folios of beef and mutton which qualify a man for the woolsack. \\\\\" Years rolled over, in which, after an ineffectual effort to get through college, the only examination I ever got being a jubilee for the king\\'s birth-day, I was at length called to the Irish bar, and saluted by my friends as Counsellor Power. The whole thing was so like a joke to me, that it kept me in laughter for three terms, and in fact it was the best thing could happen me, for I had nothing else to do. The hall of the Four Courts was a very pleasant lounge, plenty of agreeable fellows that never earned sixpence, or were likely to do so.\"',\n",
       " \"Not at all ; it is because you have been insane enough to refuse a man whom you love, and who very likely won't give you a second chance.' ' I beg to say,' replied Georgina, ' that I have never been in love in my life. If I felt the slightest symptom of such a disease coming on, I should instantly set sail for the Antarctic Ocean and never be heard of again. I should feel that I had genossen das irdische Glilck^ and that it was high time for me to disappear from civilised society.' ' It isn't the slightest use to talk to me like that,' returned Clare loftily; 4t doesn't deceive me for a moment.' '\",\n",
       " \"But after his two years' incarceration are over, he will come out again and claim you.' ' I will have broken the chain by that time. I will have gone far away where he shall never find me.' ' And you met Cortes in San Francisco ?* * Yes, sir.* *And that scoundrel Sandie Macpherson had some hand in your marrying him ? ' The girl's cheek became as white as ashes. ' Who has told you that ?\",\n",
       " \"Among other things, the talk turned on the revolt which had broken out the day before. Mr. Cameron belonged to a family which had distinguished itself by upholding liberal views during the long reign of the Tory party in England and Scotland. A thorough Liberal himself, he had long been disgusted with the state of things in Russia ; and, though far too wary (canny Scot that he was) to speak out his mind openly, he thoroughly sympathised with the conspirators, and, so far from being shocked at the outbreak, looked on its authors as heroes. Helen had been brought up in her father's views, and shared them with all the strength of her enthusiastic nature. Now that Mr. Cameron was alorte with her, and pretty sure that there were no ears in the walls, he spoke warmly about the unhappy men who had been checkmated the day before. He knew some of the leaders ; and lie spoke of them as martyrs in the cause of freedom. One expression, which he used, struck Helen very much.\",\n",
       " \"She had been reading a book containing the lives of the early English painters, lent her in all innocence by Ralph Weldon, and VI its perusal had saddened her, as it might have done many girls of a more sanguine temperament An optimist would have dis- covered that fortunes were made in those days, as wirness the courtly Sir Joshua, with his fine coach, which he was so anxious should not resemble an apothecary's ; but she had dwelt upon the darker pictures, ‚Äö√Ñ√Æ on Wilson struggling in his garret, and* without means to purchase the colours and canvas for his commissions ; on Barr}', sequestered in the squalid den, occasionally cheered by the presence of his great countr} Tnan Burke ; or Morland, taking his wet pigs to the pawnbrokers, and other depressing incidents, illustrating the general unprofitableness of an artistic career. And, woman-like, she remem- bered with a kind of dismay that Ralph had many points in common with these unfortu- nate sons of genius, notably a disinchnation to follow public taste, merely for the sake of the pecuniar}- reward it would bring. Had he not spoken in the most slighting terms of the art of Mr Flash, who had amazed thousands by painting what ever}-body could understand ? Thinking over these things made her gloomy as to the future. Enthusiasts, of course, love their art ; but those who are not enthusiasts themselves, but only con- nected with them, love their art according as it brings them more or less of what they want.\",\n",
       " '‚Äö√Ñ√Æ How could you leave us so abruptly?\" Talbot looked confused; he had no dissimulation, and could not even at- tempt it with one he venerated so highly. His father loved him for his candour; those characters were ever dearest to him that were most open to inspection, and that did not shun the scrutiny of lynx-eyed friendship. \" Can you not answer me? ‚Äö√Ñ√Æ What am I to suppose from your silence ?\\'^ inquired the peer, with a stern air.']"
      ]
     },
     "execution_count": 104,
     "metadata": {},
     "output_type": "execute_result"
    }
   ],
   "source": [
    "for_domesticity_prediction_text"
   ]
  },
  {
   "cell_type": "code",
   "execution_count": 105,
   "id": "9a70c691b088ae8b",
   "metadata": {
    "ExecuteTime": {
     "end_time": "2025-02-04T01:26:09.676392Z",
     "start_time": "2025-02-04T01:26:09.669524Z"
    },
    "collapsed": false,
    "jupyter": {
     "outputs_hidden": false
    }
   },
   "outputs": [
    {
     "data": {
      "text/html": [
       "<div>\n",
       "<style scoped>\n",
       "    .dataframe tbody tr th:only-of-type {\n",
       "        vertical-align: middle;\n",
       "    }\n",
       "\n",
       "    .dataframe tbody tr th {\n",
       "        vertical-align: top;\n",
       "    }\n",
       "\n",
       "    .dataframe thead th {\n",
       "        text-align: right;\n",
       "    }\n",
       "</style>\n",
       "<table border=\"1\" class=\"dataframe\">\n",
       "  <thead>\n",
       "    <tr style=\"text-align: right;\">\n",
       "      <th></th>\n",
       "      <th>Provenance</th>\n",
       "      <th>ID</th>\n",
       "      <th>Passage</th>\n",
       "      <th>OriginalTag</th>\n",
       "      <th>Explanation</th>\n",
       "      <th>Assignment</th>\n",
       "      <th>Title</th>\n",
       "      <th>Author</th>\n",
       "      <th>Date</th>\n",
       "      <th>Filename</th>\n",
       "      <th>TruthTag</th>\n",
       "      <th>KeyPhrase</th>\n",
       "      <th>Explanation.1</th>\n",
       "      <th>Tagger1</th>\n",
       "      <th>Reviewer</th>\n",
       "      <th>ReviewTag</th>\n",
       "      <th>ReviewExplanation</th>\n",
       "      <th>Unnamed: 17</th>\n",
       "    </tr>\n",
       "  </thead>\n",
       "  <tbody>\n",
       "    <tr>\n",
       "      <th>0</th>\n",
       "      <td>Round 2 Annotations</td>\n",
       "      <td>0669_443_449</td>\n",
       "      <td>Was he ?\" said Lilly. \" I didn't see hir n!\" \"...</td>\n",
       "      <td>IDK</td>\n",
       "      <td>dialogue, could be domestic</td>\n",
       "      <td>Jessica</td>\n",
       "      <td>The story of Lilly Dawson / by Mrs. Crowe.</td>\n",
       "      <td>Crowe, Catherine</td>\n",
       "      <td>10/6/2008</td>\n",
       "      <td>669.txt</td>\n",
       "      <td>domestic</td>\n",
       "      <td>the\\n          \\n          door of the house w...</td>\n",
       "      <td>You don't have to scroll too far for the text ...</td>\n",
       "      <td>Jessica</td>\n",
       "      <td>Alex</td>\n",
       "      <td>DOMESTIC</td>\n",
       "      <td>See Explanation</td>\n",
       "      <td>NaN</td>\n",
       "    </tr>\n",
       "    <tr>\n",
       "      <th>1</th>\n",
       "      <td>1000 Annotations</td>\n",
       "      <td>1940_6966_6972</td>\n",
       "      <td>Yhatever he had done, it was to establish the ...</td>\n",
       "      <td>NaN</td>\n",
       "      <td>NaN</td>\n",
       "      <td>Jessica</td>\n",
       "      <td>The amazing marriage</td>\n",
       "      <td>Meredith, George</td>\n",
       "      <td>1895</td>\n",
       "      <td>1940.txt</td>\n",
       "      <td>IDK</td>\n",
       "      <td>her language was mounting a stage above the ki...</td>\n",
       "      <td>I truly cannot tell whether this kitchen is a ...</td>\n",
       "      <td>Jessica</td>\n",
       "      <td>Alex</td>\n",
       "      <td>OTHER</td>\n",
       "      <td>I think they meet outdoors. \"At Esslemont Park...</td>\n",
       "      <td>NaN</td>\n",
       "    </tr>\n",
       "    <tr>\n",
       "      <th>2</th>\n",
       "      <td>1000 Annotations</td>\n",
       "      <td>1980_4703_4709</td>\n",
       "      <td>‚Äö√Ñ¬¢-You will find/' said Brerewood, handin...</td>\n",
       "      <td>NaN</td>\n",
       "      <td>NaN</td>\n",
       "      <td>Jessica</td>\n",
       "      <td>Frank Allerton : an autobiography</td>\n",
       "      <td>Mongredien Augustus 1807 1888</td>\n",
       "      <td>1878</td>\n",
       "      <td>1980.txt</td>\n",
       "      <td>domestic</td>\n",
       "      <td>In another moment, after being detained a \\nli...</td>\n",
       "      <td>It's clear early on that this passage is from ...</td>\n",
       "      <td>Jessica</td>\n",
       "      <td>Alex</td>\n",
       "      <td>DOMESTIC</td>\n",
       "      <td>Agree. \"There was a roomy closet in the study,...</td>\n",
       "      <td>NaN</td>\n",
       "    </tr>\n",
       "    <tr>\n",
       "      <th>3</th>\n",
       "      <td>Unfiltered Annotation, Round 31</td>\n",
       "      <td>1753_5265_5271</td>\n",
       "      <td>\"' I !\" exclaimed John in alarm (he might lose...</td>\n",
       "      <td>IDK</td>\n",
       "      <td>NaN</td>\n",
       "      <td>Jessica</td>\n",
       "      <td>Riding out the gale : a novel</td>\n",
       "      <td>Lyster Annette</td>\n",
       "      <td>1877</td>\n",
       "      <td>1753.txt</td>\n",
       "      <td>domestic</td>\n",
       "      <td>Sir Lionel arose and marched across the \\nroom...</td>\n",
       "      <td>There is another line closer to this passage i...</td>\n",
       "      <td>Jessica</td>\n",
       "      <td>Alex</td>\n",
       "      <td>DOMESTIC</td>\n",
       "      <td>Agreed--that line confirms it and the conversa...</td>\n",
       "      <td>NaN</td>\n",
       "    </tr>\n",
       "    <tr>\n",
       "      <th>4</th>\n",
       "      <td>1000 Annotations</td>\n",
       "      <td>0639_4610_4616</td>\n",
       "      <td>I only know it would be a bad business for him...</td>\n",
       "      <td>NaN</td>\n",
       "      <td>NaN</td>\n",
       "      <td>Mark</td>\n",
       "      <td>Dorcas</td>\n",
       "      <td>Craik, Georgiana Marion</td>\n",
       "      <td>1879</td>\n",
       "      <td>639.txt</td>\n",
       "      <td>domestic</td>\n",
       "      <td>The word had slipped out naturally first when ...</td>\n",
       "      <td>Somewhat unclear (Frequent mentions of skating...</td>\n",
       "      <td>Mark</td>\n",
       "      <td>Alex</td>\n",
       "      <td>DOMESTIC</td>\n",
       "      <td>Discussed in last meeting. No clear indication...</td>\n",
       "      <td>NaN</td>\n",
       "    </tr>\n",
       "    <tr>\n",
       "      <th>...</th>\n",
       "      <td>...</td>\n",
       "      <td>...</td>\n",
       "      <td>...</td>\n",
       "      <td>...</td>\n",
       "      <td>...</td>\n",
       "      <td>...</td>\n",
       "      <td>...</td>\n",
       "      <td>...</td>\n",
       "      <td>...</td>\n",
       "      <td>...</td>\n",
       "      <td>...</td>\n",
       "      <td>...</td>\n",
       "      <td>...</td>\n",
       "      <td>...</td>\n",
       "      <td>...</td>\n",
       "      <td>...</td>\n",
       "      <td>...</td>\n",
       "      <td>...</td>\n",
       "    </tr>\n",
       "    <tr>\n",
       "      <th>99</th>\n",
       "      <td>Unfiltered Annotation, Round 21</td>\n",
       "      <td>2089_5904_5910</td>\n",
       "      <td>Not at all ; it is because you have been insan...</td>\n",
       "      <td>IDK</td>\n",
       "      <td>NaN</td>\n",
       "      <td>Mark</td>\n",
       "      <td>Adrian Vidal</td>\n",
       "      <td>Norris, William Edward</td>\n",
       "      <td>1885</td>\n",
       "      <td>2089.txt</td>\n",
       "      <td>domestic</td>\n",
       "      <td>Something in the tone in which the last words ...</td>\n",
       "      <td>Sister in-law's bedroom</td>\n",
       "      <td>Mark</td>\n",
       "      <td>Svenja</td>\n",
       "      <td>domestic</td>\n",
       "      <td>Sister in-law's bedroom</td>\n",
       "      <td>NaN</td>\n",
       "    </tr>\n",
       "    <tr>\n",
       "      <th>100</th>\n",
       "      <td>Round 2 Annotations</td>\n",
       "      <td>1651_322_328</td>\n",
       "      <td>But after his two years' incarceration are ove...</td>\n",
       "      <td>IDK</td>\n",
       "      <td>dialogue, could be domestic</td>\n",
       "      <td>Sophie</td>\n",
       "      <td>Phyllida. A life drama</td>\n",
       "      <td>Lean Florence formerly Church formerly Marryat</td>\n",
       "      <td>1882</td>\n",
       "      <td>1651.txt</td>\n",
       "      <td>domestic</td>\n",
       "      <td>* She lives with me,' she replied, with \\ncaut...</td>\n",
       "      <td>KeyPrase: page 14. Nelson Cole visits Stephani...</td>\n",
       "      <td>Sophie</td>\n",
       "      <td>Svenja</td>\n",
       "      <td>domestic</td>\n",
       "      <td>at someone's home; \"But he had not had time to...</td>\n",
       "      <td>NaN</td>\n",
       "    </tr>\n",
       "    <tr>\n",
       "      <th>101</th>\n",
       "      <td>Round 2 Annotations</td>\n",
       "      <td>0421_10949_10955</td>\n",
       "      <td>Among other things, the talk turned on the rev...</td>\n",
       "      <td>IDK</td>\n",
       "      <td>non-spatial narration, could be other</td>\n",
       "      <td>Sophie</td>\n",
       "      <td>Helen Cameron: from grub to butterfly</td>\n",
       "      <td>Cameron Helen</td>\n",
       "      <td>1871</td>\n",
       "      <td>421.txt</td>\n",
       "      <td>domestic</td>\n",
       "      <td>The evening after the revolt there was a \\npar...</td>\n",
       "      <td>They are in Mr. Eandal¥s home. (The passage is...</td>\n",
       "      <td>Sophie</td>\n",
       "      <td>Svenja</td>\n",
       "      <td>domestic</td>\n",
       "      <td>at Helen's home \"When Helen returned home, it ...</td>\n",
       "      <td>NaN</td>\n",
       "    </tr>\n",
       "    <tr>\n",
       "      <th>102</th>\n",
       "      <td>1000 Annotations</td>\n",
       "      <td>0356_2549_2555</td>\n",
       "      <td>She had been reading a book containing the liv...</td>\n",
       "      <td>NaN</td>\n",
       "      <td>NaN</td>\n",
       "      <td>Sophie</td>\n",
       "      <td>The queen of two worlds</td>\n",
       "      <td>Brooke, Laurence</td>\n",
       "      <td>1879</td>\n",
       "      <td>356.txt</td>\n",
       "      <td>domestic</td>\n",
       "      <td>/-f^-vy^ELEX stood at the window of the \\n^ ïw...</td>\n",
       "      <td>She is in a room, and she seems to be alone.</td>\n",
       "      <td>Sophie</td>\n",
       "      <td>Svenja</td>\n",
       "      <td>domestic</td>\n",
       "      <td>reading a book at home</td>\n",
       "      <td>NaN</td>\n",
       "    </tr>\n",
       "    <tr>\n",
       "      <th>103</th>\n",
       "      <td>Unfiltered Annotation, Round 13</td>\n",
       "      <td>0050_4735_4741</td>\n",
       "      <td>‚Äö√Ñ√Æ How could you leave us so abruptly?\" T...</td>\n",
       "      <td>IDK</td>\n",
       "      <td>NaN</td>\n",
       "      <td>Sophie</td>\n",
       "      <td>Caprice; or, Anecdotes of the Listowel family....</td>\n",
       "      <td>An Unknown</td>\n",
       "      <td>1824</td>\n",
       "      <td>50.txt</td>\n",
       "      <td>domestic</td>\n",
       "      <td>Belmont entered the building, and was \\nstartl...</td>\n",
       "      <td>They are inside someone¥s house. Also: \"Lady E...</td>\n",
       "      <td>Sophie</td>\n",
       "      <td>Svenja</td>\n",
       "      <td>domestic</td>\n",
       "      <td>inside a private house with garden</td>\n",
       "      <td>NaN</td>\n",
       "    </tr>\n",
       "  </tbody>\n",
       "</table>\n",
       "<p>104 rows × 18 columns</p>\n",
       "</div>"
      ],
      "text/plain": [
       "                          Provenance                ID  \\\n",
       "0                Round 2 Annotations      0669_443_449   \n",
       "1                   1000 Annotations    1940_6966_6972   \n",
       "2                   1000 Annotations    1980_4703_4709   \n",
       "3    Unfiltered Annotation, Round 31    1753_5265_5271   \n",
       "4                   1000 Annotations    0639_4610_4616   \n",
       "..                               ...               ...   \n",
       "99   Unfiltered Annotation, Round 21    2089_5904_5910   \n",
       "100              Round 2 Annotations      1651_322_328   \n",
       "101              Round 2 Annotations  0421_10949_10955   \n",
       "102                 1000 Annotations    0356_2549_2555   \n",
       "103  Unfiltered Annotation, Round 13    0050_4735_4741   \n",
       "\n",
       "                                               Passage OriginalTag  \\\n",
       "0    Was he ?\" said Lilly. \" I didn't see hir n!\" \"...         IDK   \n",
       "1    Yhatever he had done, it was to establish the ...         NaN   \n",
       "2    ‚Äö√Ñ¬¢-You will find/' said Brerewood, handin...         NaN   \n",
       "3    \"' I !\" exclaimed John in alarm (he might lose...         IDK   \n",
       "4    I only know it would be a bad business for him...         NaN   \n",
       "..                                                 ...         ...   \n",
       "99   Not at all ; it is because you have been insan...         IDK   \n",
       "100  But after his two years' incarceration are ove...         IDK   \n",
       "101  Among other things, the talk turned on the rev...         IDK   \n",
       "102  She had been reading a book containing the liv...         NaN   \n",
       "103  ‚Äö√Ñ√Æ How could you leave us so abruptly?\" T...         IDK   \n",
       "\n",
       "                               Explanation Assignment  \\\n",
       "0              dialogue, could be domestic    Jessica   \n",
       "1                                      NaN    Jessica   \n",
       "2                                      NaN    Jessica   \n",
       "3                                      NaN    Jessica   \n",
       "4                                      NaN       Mark   \n",
       "..                                     ...        ...   \n",
       "99                                     NaN       Mark   \n",
       "100            dialogue, could be domestic     Sophie   \n",
       "101  non-spatial narration, could be other     Sophie   \n",
       "102                                    NaN     Sophie   \n",
       "103                                    NaN     Sophie   \n",
       "\n",
       "                                                 Title  \\\n",
       "0           The story of Lilly Dawson / by Mrs. Crowe.   \n",
       "1                                 The amazing marriage   \n",
       "2                    Frank Allerton : an autobiography   \n",
       "3                        Riding out the gale : a novel   \n",
       "4                                               Dorcas   \n",
       "..                                                 ...   \n",
       "99                                        Adrian Vidal   \n",
       "100                             Phyllida. A life drama   \n",
       "101              Helen Cameron: from grub to butterfly   \n",
       "102                            The queen of two worlds   \n",
       "103  Caprice; or, Anecdotes of the Listowel family....   \n",
       "\n",
       "                                             Author       Date  Filename  \\\n",
       "0                                  Crowe, Catherine  10/6/2008   669.txt   \n",
       "1                                  Meredith, George       1895  1940.txt   \n",
       "2                     Mongredien Augustus 1807 1888       1878  1980.txt   \n",
       "3                                    Lyster Annette       1877  1753.txt   \n",
       "4                           Craik, Georgiana Marion       1879   639.txt   \n",
       "..                                              ...        ...       ...   \n",
       "99                           Norris, William Edward       1885  2089.txt   \n",
       "100  Lean Florence formerly Church formerly Marryat       1882  1651.txt   \n",
       "101                                   Cameron Helen       1871   421.txt   \n",
       "102                                Brooke, Laurence       1879   356.txt   \n",
       "103                                      An Unknown       1824    50.txt   \n",
       "\n",
       "     TruthTag                                          KeyPhrase  \\\n",
       "0    domestic  the\\n          \\n          door of the house w...   \n",
       "1         IDK  her language was mounting a stage above the ki...   \n",
       "2    domestic  In another moment, after being detained a \\nli...   \n",
       "3    domestic  Sir Lionel arose and marched across the \\nroom...   \n",
       "4    domestic  The word had slipped out naturally first when ...   \n",
       "..        ...                                                ...   \n",
       "99   domestic  Something in the tone in which the last words ...   \n",
       "100  domestic  * She lives with me,' she replied, with \\ncaut...   \n",
       "101  domestic  The evening after the revolt there was a \\npar...   \n",
       "102  domestic  /-f^-vy^ELEX stood at the window of the \\n^ ïw...   \n",
       "103  domestic  Belmont entered the building, and was \\nstartl...   \n",
       "\n",
       "                                         Explanation.1  Tagger1 Reviewer  \\\n",
       "0    You don't have to scroll too far for the text ...  Jessica     Alex   \n",
       "1    I truly cannot tell whether this kitchen is a ...  Jessica     Alex   \n",
       "2    It's clear early on that this passage is from ...  Jessica     Alex   \n",
       "3    There is another line closer to this passage i...  Jessica     Alex   \n",
       "4    Somewhat unclear (Frequent mentions of skating...     Mark     Alex   \n",
       "..                                                 ...      ...      ...   \n",
       "99                             Sister in-law's bedroom     Mark   Svenja   \n",
       "100  KeyPrase: page 14. Nelson Cole visits Stephani...   Sophie   Svenja   \n",
       "101  They are in Mr. Eandal¥s home. (The passage is...   Sophie   Svenja   \n",
       "102       She is in a room, and she seems to be alone.   Sophie   Svenja   \n",
       "103  They are inside someone¥s house. Also: \"Lady E...   Sophie   Svenja   \n",
       "\n",
       "    ReviewTag                                  ReviewExplanation Unnamed: 17  \n",
       "0    DOMESTIC                                    See Explanation         NaN  \n",
       "1       OTHER  I think they meet outdoors. \"At Esslemont Park...         NaN  \n",
       "2    DOMESTIC  Agree. \"There was a roomy closet in the study,...         NaN  \n",
       "3    DOMESTIC  Agreed--that line confirms it and the conversa...         NaN  \n",
       "4    DOMESTIC  Discussed in last meeting. No clear indication...         NaN  \n",
       "..        ...                                                ...         ...  \n",
       "99   domestic                            Sister in-law's bedroom         NaN  \n",
       "100  domestic  at someone's home; \"But he had not had time to...         NaN  \n",
       "101  domestic  at Helen's home \"When Helen returned home, it ...         NaN  \n",
       "102  domestic                             reading a book at home         NaN  \n",
       "103  domestic                 inside a private house with garden         NaN  \n",
       "\n",
       "[104 rows x 18 columns]"
      ]
     },
     "execution_count": 105,
     "metadata": {},
     "output_type": "execute_result"
    }
   ],
   "source": [
    "raw_data"
   ]
  },
  {
   "cell_type": "code",
   "execution_count": 106,
   "id": "8438fb7fb5a37e36",
   "metadata": {
    "ExecuteTime": {
     "end_time": "2025-02-04T01:26:45.630925Z",
     "start_time": "2025-02-04T01:26:41.365Z"
    },
    "collapsed": false,
    "jupyter": {
     "outputs_hidden": false
    }
   },
   "outputs": [
    {
     "name": "stdout",
     "output_type": "stream",
     "text": [
      "4/4 [==============================] - 4s 989ms/step\n"
     ]
    }
   ],
   "source": [
    "domesticity_probability = model_domestic.predict(for_domesticity_prediction_text)"
   ]
  },
  {
   "cell_type": "code",
   "execution_count": 107,
   "id": "80ca7f791cd307e6",
   "metadata": {
    "ExecuteTime": {
     "end_time": "2025-02-04T01:26:53.381718Z",
     "start_time": "2025-02-04T01:26:53.379876Z"
    },
    "collapsed": false,
    "jupyter": {
     "outputs_hidden": false
    }
   },
   "outputs": [],
   "source": [
    "prob_domestic_df = pd.DataFrame(domesticity_probability, columns=['other', 'domestic'])\n",
    "#full_domestic_class=pd.concat([nontrash_df, prob_domestic_df], axis=1)"
   ]
  },
  {
   "cell_type": "code",
   "execution_count": 108,
   "id": "b7ef178a56ab29dc",
   "metadata": {
    "ExecuteTime": {
     "end_time": "2025-02-04T01:26:57.585551Z",
     "start_time": "2025-02-04T01:26:57.583567Z"
    },
    "collapsed": false,
    "jupyter": {
     "outputs_hidden": false
    }
   },
   "outputs": [],
   "source": [
    "\n",
    "domesticity_table=pd.concat([raw_data, prob_domestic_df], axis=1)"
   ]
  },
  {
   "cell_type": "code",
   "execution_count": 109,
   "id": "d0fac5d657b94331",
   "metadata": {
    "ExecuteTime": {
     "end_time": "2025-02-04T01:26:58.893656Z",
     "start_time": "2025-02-04T01:26:58.886776Z"
    },
    "collapsed": false,
    "jupyter": {
     "outputs_hidden": false
    }
   },
   "outputs": [
    {
     "data": {
      "text/html": [
       "<div>\n",
       "<style scoped>\n",
       "    .dataframe tbody tr th:only-of-type {\n",
       "        vertical-align: middle;\n",
       "    }\n",
       "\n",
       "    .dataframe tbody tr th {\n",
       "        vertical-align: top;\n",
       "    }\n",
       "\n",
       "    .dataframe thead th {\n",
       "        text-align: right;\n",
       "    }\n",
       "</style>\n",
       "<table border=\"1\" class=\"dataframe\">\n",
       "  <thead>\n",
       "    <tr style=\"text-align: right;\">\n",
       "      <th></th>\n",
       "      <th>Provenance</th>\n",
       "      <th>ID</th>\n",
       "      <th>Passage</th>\n",
       "      <th>OriginalTag</th>\n",
       "      <th>Explanation</th>\n",
       "      <th>Assignment</th>\n",
       "      <th>Title</th>\n",
       "      <th>Author</th>\n",
       "      <th>Date</th>\n",
       "      <th>Filename</th>\n",
       "      <th>TruthTag</th>\n",
       "      <th>KeyPhrase</th>\n",
       "      <th>Explanation.1</th>\n",
       "      <th>Tagger1</th>\n",
       "      <th>Reviewer</th>\n",
       "      <th>ReviewTag</th>\n",
       "      <th>ReviewExplanation</th>\n",
       "      <th>Unnamed: 17</th>\n",
       "      <th>other</th>\n",
       "      <th>domestic</th>\n",
       "    </tr>\n",
       "  </thead>\n",
       "  <tbody>\n",
       "    <tr>\n",
       "      <th>0</th>\n",
       "      <td>Round 2 Annotations</td>\n",
       "      <td>0669_443_449</td>\n",
       "      <td>Was he ?\" said Lilly. \" I didn't see hir n!\" \"...</td>\n",
       "      <td>IDK</td>\n",
       "      <td>dialogue, could be domestic</td>\n",
       "      <td>Jessica</td>\n",
       "      <td>The story of Lilly Dawson / by Mrs. Crowe.</td>\n",
       "      <td>Crowe, Catherine</td>\n",
       "      <td>10/6/2008</td>\n",
       "      <td>669.txt</td>\n",
       "      <td>domestic</td>\n",
       "      <td>the\\n          \\n          door of the house w...</td>\n",
       "      <td>You don't have to scroll too far for the text ...</td>\n",
       "      <td>Jessica</td>\n",
       "      <td>Alex</td>\n",
       "      <td>DOMESTIC</td>\n",
       "      <td>See Explanation</td>\n",
       "      <td>NaN</td>\n",
       "      <td>0.586324</td>\n",
       "      <td>0.413676</td>\n",
       "    </tr>\n",
       "    <tr>\n",
       "      <th>1</th>\n",
       "      <td>1000 Annotations</td>\n",
       "      <td>1940_6966_6972</td>\n",
       "      <td>Yhatever he had done, it was to establish the ...</td>\n",
       "      <td>NaN</td>\n",
       "      <td>NaN</td>\n",
       "      <td>Jessica</td>\n",
       "      <td>The amazing marriage</td>\n",
       "      <td>Meredith, George</td>\n",
       "      <td>1895</td>\n",
       "      <td>1940.txt</td>\n",
       "      <td>IDK</td>\n",
       "      <td>her language was mounting a stage above the ki...</td>\n",
       "      <td>I truly cannot tell whether this kitchen is a ...</td>\n",
       "      <td>Jessica</td>\n",
       "      <td>Alex</td>\n",
       "      <td>OTHER</td>\n",
       "      <td>I think they meet outdoors. \"At Esslemont Park...</td>\n",
       "      <td>NaN</td>\n",
       "      <td>0.737305</td>\n",
       "      <td>0.262695</td>\n",
       "    </tr>\n",
       "    <tr>\n",
       "      <th>2</th>\n",
       "      <td>1000 Annotations</td>\n",
       "      <td>1980_4703_4709</td>\n",
       "      <td>‚Äö√Ñ¬¢-You will find/' said Brerewood, handin...</td>\n",
       "      <td>NaN</td>\n",
       "      <td>NaN</td>\n",
       "      <td>Jessica</td>\n",
       "      <td>Frank Allerton : an autobiography</td>\n",
       "      <td>Mongredien Augustus 1807 1888</td>\n",
       "      <td>1878</td>\n",
       "      <td>1980.txt</td>\n",
       "      <td>domestic</td>\n",
       "      <td>In another moment, after being detained a \\nli...</td>\n",
       "      <td>It's clear early on that this passage is from ...</td>\n",
       "      <td>Jessica</td>\n",
       "      <td>Alex</td>\n",
       "      <td>DOMESTIC</td>\n",
       "      <td>Agree. \"There was a roomy closet in the study,...</td>\n",
       "      <td>NaN</td>\n",
       "      <td>0.400552</td>\n",
       "      <td>0.599448</td>\n",
       "    </tr>\n",
       "    <tr>\n",
       "      <th>3</th>\n",
       "      <td>Unfiltered Annotation, Round 31</td>\n",
       "      <td>1753_5265_5271</td>\n",
       "      <td>\"' I !\" exclaimed John in alarm (he might lose...</td>\n",
       "      <td>IDK</td>\n",
       "      <td>NaN</td>\n",
       "      <td>Jessica</td>\n",
       "      <td>Riding out the gale : a novel</td>\n",
       "      <td>Lyster Annette</td>\n",
       "      <td>1877</td>\n",
       "      <td>1753.txt</td>\n",
       "      <td>domestic</td>\n",
       "      <td>Sir Lionel arose and marched across the \\nroom...</td>\n",
       "      <td>There is another line closer to this passage i...</td>\n",
       "      <td>Jessica</td>\n",
       "      <td>Alex</td>\n",
       "      <td>DOMESTIC</td>\n",
       "      <td>Agreed--that line confirms it and the conversa...</td>\n",
       "      <td>NaN</td>\n",
       "      <td>0.518769</td>\n",
       "      <td>0.481231</td>\n",
       "    </tr>\n",
       "    <tr>\n",
       "      <th>4</th>\n",
       "      <td>1000 Annotations</td>\n",
       "      <td>0639_4610_4616</td>\n",
       "      <td>I only know it would be a bad business for him...</td>\n",
       "      <td>NaN</td>\n",
       "      <td>NaN</td>\n",
       "      <td>Mark</td>\n",
       "      <td>Dorcas</td>\n",
       "      <td>Craik, Georgiana Marion</td>\n",
       "      <td>1879</td>\n",
       "      <td>639.txt</td>\n",
       "      <td>domestic</td>\n",
       "      <td>The word had slipped out naturally first when ...</td>\n",
       "      <td>Somewhat unclear (Frequent mentions of skating...</td>\n",
       "      <td>Mark</td>\n",
       "      <td>Alex</td>\n",
       "      <td>DOMESTIC</td>\n",
       "      <td>Discussed in last meeting. No clear indication...</td>\n",
       "      <td>NaN</td>\n",
       "      <td>0.368507</td>\n",
       "      <td>0.631493</td>\n",
       "    </tr>\n",
       "    <tr>\n",
       "      <th>...</th>\n",
       "      <td>...</td>\n",
       "      <td>...</td>\n",
       "      <td>...</td>\n",
       "      <td>...</td>\n",
       "      <td>...</td>\n",
       "      <td>...</td>\n",
       "      <td>...</td>\n",
       "      <td>...</td>\n",
       "      <td>...</td>\n",
       "      <td>...</td>\n",
       "      <td>...</td>\n",
       "      <td>...</td>\n",
       "      <td>...</td>\n",
       "      <td>...</td>\n",
       "      <td>...</td>\n",
       "      <td>...</td>\n",
       "      <td>...</td>\n",
       "      <td>...</td>\n",
       "      <td>...</td>\n",
       "      <td>...</td>\n",
       "    </tr>\n",
       "    <tr>\n",
       "      <th>99</th>\n",
       "      <td>Unfiltered Annotation, Round 21</td>\n",
       "      <td>2089_5904_5910</td>\n",
       "      <td>Not at all ; it is because you have been insan...</td>\n",
       "      <td>IDK</td>\n",
       "      <td>NaN</td>\n",
       "      <td>Mark</td>\n",
       "      <td>Adrian Vidal</td>\n",
       "      <td>Norris, William Edward</td>\n",
       "      <td>1885</td>\n",
       "      <td>2089.txt</td>\n",
       "      <td>domestic</td>\n",
       "      <td>Something in the tone in which the last words ...</td>\n",
       "      <td>Sister in-law's bedroom</td>\n",
       "      <td>Mark</td>\n",
       "      <td>Svenja</td>\n",
       "      <td>domestic</td>\n",
       "      <td>Sister in-law's bedroom</td>\n",
       "      <td>NaN</td>\n",
       "      <td>0.725962</td>\n",
       "      <td>0.274039</td>\n",
       "    </tr>\n",
       "    <tr>\n",
       "      <th>100</th>\n",
       "      <td>Round 2 Annotations</td>\n",
       "      <td>1651_322_328</td>\n",
       "      <td>But after his two years' incarceration are ove...</td>\n",
       "      <td>IDK</td>\n",
       "      <td>dialogue, could be domestic</td>\n",
       "      <td>Sophie</td>\n",
       "      <td>Phyllida. A life drama</td>\n",
       "      <td>Lean Florence formerly Church formerly Marryat</td>\n",
       "      <td>1882</td>\n",
       "      <td>1651.txt</td>\n",
       "      <td>domestic</td>\n",
       "      <td>* She lives with me,' she replied, with \\ncaut...</td>\n",
       "      <td>KeyPrase: page 14. Nelson Cole visits Stephani...</td>\n",
       "      <td>Sophie</td>\n",
       "      <td>Svenja</td>\n",
       "      <td>domestic</td>\n",
       "      <td>at someone's home; \"But he had not had time to...</td>\n",
       "      <td>NaN</td>\n",
       "      <td>0.674147</td>\n",
       "      <td>0.325853</td>\n",
       "    </tr>\n",
       "    <tr>\n",
       "      <th>101</th>\n",
       "      <td>Round 2 Annotations</td>\n",
       "      <td>0421_10949_10955</td>\n",
       "      <td>Among other things, the talk turned on the rev...</td>\n",
       "      <td>IDK</td>\n",
       "      <td>non-spatial narration, could be other</td>\n",
       "      <td>Sophie</td>\n",
       "      <td>Helen Cameron: from grub to butterfly</td>\n",
       "      <td>Cameron Helen</td>\n",
       "      <td>1871</td>\n",
       "      <td>421.txt</td>\n",
       "      <td>domestic</td>\n",
       "      <td>The evening after the revolt there was a \\npar...</td>\n",
       "      <td>They are in Mr. Eandal¥s home. (The passage is...</td>\n",
       "      <td>Sophie</td>\n",
       "      <td>Svenja</td>\n",
       "      <td>domestic</td>\n",
       "      <td>at Helen's home \"When Helen returned home, it ...</td>\n",
       "      <td>NaN</td>\n",
       "      <td>0.589741</td>\n",
       "      <td>0.410259</td>\n",
       "    </tr>\n",
       "    <tr>\n",
       "      <th>102</th>\n",
       "      <td>1000 Annotations</td>\n",
       "      <td>0356_2549_2555</td>\n",
       "      <td>She had been reading a book containing the liv...</td>\n",
       "      <td>NaN</td>\n",
       "      <td>NaN</td>\n",
       "      <td>Sophie</td>\n",
       "      <td>The queen of two worlds</td>\n",
       "      <td>Brooke, Laurence</td>\n",
       "      <td>1879</td>\n",
       "      <td>356.txt</td>\n",
       "      <td>domestic</td>\n",
       "      <td>/-f^-vy^ELEX stood at the window of the \\n^ ïw...</td>\n",
       "      <td>She is in a room, and she seems to be alone.</td>\n",
       "      <td>Sophie</td>\n",
       "      <td>Svenja</td>\n",
       "      <td>domestic</td>\n",
       "      <td>reading a book at home</td>\n",
       "      <td>NaN</td>\n",
       "      <td>0.508296</td>\n",
       "      <td>0.491704</td>\n",
       "    </tr>\n",
       "    <tr>\n",
       "      <th>103</th>\n",
       "      <td>Unfiltered Annotation, Round 13</td>\n",
       "      <td>0050_4735_4741</td>\n",
       "      <td>‚Äö√Ñ√Æ How could you leave us so abruptly?\" T...</td>\n",
       "      <td>IDK</td>\n",
       "      <td>NaN</td>\n",
       "      <td>Sophie</td>\n",
       "      <td>Caprice; or, Anecdotes of the Listowel family....</td>\n",
       "      <td>An Unknown</td>\n",
       "      <td>1824</td>\n",
       "      <td>50.txt</td>\n",
       "      <td>domestic</td>\n",
       "      <td>Belmont entered the building, and was \\nstartl...</td>\n",
       "      <td>They are inside someone¥s house. Also: \"Lady E...</td>\n",
       "      <td>Sophie</td>\n",
       "      <td>Svenja</td>\n",
       "      <td>domestic</td>\n",
       "      <td>inside a private house with garden</td>\n",
       "      <td>NaN</td>\n",
       "      <td>0.260057</td>\n",
       "      <td>0.739943</td>\n",
       "    </tr>\n",
       "  </tbody>\n",
       "</table>\n",
       "<p>104 rows × 20 columns</p>\n",
       "</div>"
      ],
      "text/plain": [
       "                          Provenance                ID  \\\n",
       "0                Round 2 Annotations      0669_443_449   \n",
       "1                   1000 Annotations    1940_6966_6972   \n",
       "2                   1000 Annotations    1980_4703_4709   \n",
       "3    Unfiltered Annotation, Round 31    1753_5265_5271   \n",
       "4                   1000 Annotations    0639_4610_4616   \n",
       "..                               ...               ...   \n",
       "99   Unfiltered Annotation, Round 21    2089_5904_5910   \n",
       "100              Round 2 Annotations      1651_322_328   \n",
       "101              Round 2 Annotations  0421_10949_10955   \n",
       "102                 1000 Annotations    0356_2549_2555   \n",
       "103  Unfiltered Annotation, Round 13    0050_4735_4741   \n",
       "\n",
       "                                               Passage OriginalTag  \\\n",
       "0    Was he ?\" said Lilly. \" I didn't see hir n!\" \"...         IDK   \n",
       "1    Yhatever he had done, it was to establish the ...         NaN   \n",
       "2    ‚Äö√Ñ¬¢-You will find/' said Brerewood, handin...         NaN   \n",
       "3    \"' I !\" exclaimed John in alarm (he might lose...         IDK   \n",
       "4    I only know it would be a bad business for him...         NaN   \n",
       "..                                                 ...         ...   \n",
       "99   Not at all ; it is because you have been insan...         IDK   \n",
       "100  But after his two years' incarceration are ove...         IDK   \n",
       "101  Among other things, the talk turned on the rev...         IDK   \n",
       "102  She had been reading a book containing the liv...         NaN   \n",
       "103  ‚Äö√Ñ√Æ How could you leave us so abruptly?\" T...         IDK   \n",
       "\n",
       "                               Explanation Assignment  \\\n",
       "0              dialogue, could be domestic    Jessica   \n",
       "1                                      NaN    Jessica   \n",
       "2                                      NaN    Jessica   \n",
       "3                                      NaN    Jessica   \n",
       "4                                      NaN       Mark   \n",
       "..                                     ...        ...   \n",
       "99                                     NaN       Mark   \n",
       "100            dialogue, could be domestic     Sophie   \n",
       "101  non-spatial narration, could be other     Sophie   \n",
       "102                                    NaN     Sophie   \n",
       "103                                    NaN     Sophie   \n",
       "\n",
       "                                                 Title  \\\n",
       "0           The story of Lilly Dawson / by Mrs. Crowe.   \n",
       "1                                 The amazing marriage   \n",
       "2                    Frank Allerton : an autobiography   \n",
       "3                        Riding out the gale : a novel   \n",
       "4                                               Dorcas   \n",
       "..                                                 ...   \n",
       "99                                        Adrian Vidal   \n",
       "100                             Phyllida. A life drama   \n",
       "101              Helen Cameron: from grub to butterfly   \n",
       "102                            The queen of two worlds   \n",
       "103  Caprice; or, Anecdotes of the Listowel family....   \n",
       "\n",
       "                                             Author       Date  Filename  \\\n",
       "0                                  Crowe, Catherine  10/6/2008   669.txt   \n",
       "1                                  Meredith, George       1895  1940.txt   \n",
       "2                     Mongredien Augustus 1807 1888       1878  1980.txt   \n",
       "3                                    Lyster Annette       1877  1753.txt   \n",
       "4                           Craik, Georgiana Marion       1879   639.txt   \n",
       "..                                              ...        ...       ...   \n",
       "99                           Norris, William Edward       1885  2089.txt   \n",
       "100  Lean Florence formerly Church formerly Marryat       1882  1651.txt   \n",
       "101                                   Cameron Helen       1871   421.txt   \n",
       "102                                Brooke, Laurence       1879   356.txt   \n",
       "103                                      An Unknown       1824    50.txt   \n",
       "\n",
       "     TruthTag                                          KeyPhrase  \\\n",
       "0    domestic  the\\n          \\n          door of the house w...   \n",
       "1         IDK  her language was mounting a stage above the ki...   \n",
       "2    domestic  In another moment, after being detained a \\nli...   \n",
       "3    domestic  Sir Lionel arose and marched across the \\nroom...   \n",
       "4    domestic  The word had slipped out naturally first when ...   \n",
       "..        ...                                                ...   \n",
       "99   domestic  Something in the tone in which the last words ...   \n",
       "100  domestic  * She lives with me,' she replied, with \\ncaut...   \n",
       "101  domestic  The evening after the revolt there was a \\npar...   \n",
       "102  domestic  /-f^-vy^ELEX stood at the window of the \\n^ ïw...   \n",
       "103  domestic  Belmont entered the building, and was \\nstartl...   \n",
       "\n",
       "                                         Explanation.1  Tagger1 Reviewer  \\\n",
       "0    You don't have to scroll too far for the text ...  Jessica     Alex   \n",
       "1    I truly cannot tell whether this kitchen is a ...  Jessica     Alex   \n",
       "2    It's clear early on that this passage is from ...  Jessica     Alex   \n",
       "3    There is another line closer to this passage i...  Jessica     Alex   \n",
       "4    Somewhat unclear (Frequent mentions of skating...     Mark     Alex   \n",
       "..                                                 ...      ...      ...   \n",
       "99                             Sister in-law's bedroom     Mark   Svenja   \n",
       "100  KeyPrase: page 14. Nelson Cole visits Stephani...   Sophie   Svenja   \n",
       "101  They are in Mr. Eandal¥s home. (The passage is...   Sophie   Svenja   \n",
       "102       She is in a room, and she seems to be alone.   Sophie   Svenja   \n",
       "103  They are inside someone¥s house. Also: \"Lady E...   Sophie   Svenja   \n",
       "\n",
       "    ReviewTag                                  ReviewExplanation Unnamed: 17  \\\n",
       "0    DOMESTIC                                    See Explanation         NaN   \n",
       "1       OTHER  I think they meet outdoors. \"At Esslemont Park...         NaN   \n",
       "2    DOMESTIC  Agree. \"There was a roomy closet in the study,...         NaN   \n",
       "3    DOMESTIC  Agreed--that line confirms it and the conversa...         NaN   \n",
       "4    DOMESTIC  Discussed in last meeting. No clear indication...         NaN   \n",
       "..        ...                                                ...         ...   \n",
       "99   domestic                            Sister in-law's bedroom         NaN   \n",
       "100  domestic  at someone's home; \"But he had not had time to...         NaN   \n",
       "101  domestic  at Helen's home \"When Helen returned home, it ...         NaN   \n",
       "102  domestic                             reading a book at home         NaN   \n",
       "103  domestic                 inside a private house with garden         NaN   \n",
       "\n",
       "        other  domestic  \n",
       "0    0.586324  0.413676  \n",
       "1    0.737305  0.262695  \n",
       "2    0.400552  0.599448  \n",
       "3    0.518769  0.481231  \n",
       "4    0.368507  0.631493  \n",
       "..        ...       ...  \n",
       "99   0.725962  0.274039  \n",
       "100  0.674147  0.325853  \n",
       "101  0.589741  0.410259  \n",
       "102  0.508296  0.491704  \n",
       "103  0.260057  0.739943  \n",
       "\n",
       "[104 rows x 20 columns]"
      ]
     },
     "execution_count": 109,
     "metadata": {},
     "output_type": "execute_result"
    }
   ],
   "source": [
    "domesticity_table"
   ]
  },
  {
   "cell_type": "code",
   "execution_count": 110,
   "id": "7ec87690850f2403",
   "metadata": {
    "ExecuteTime": {
     "end_time": "2025-02-04T01:27:17.788291Z",
     "start_time": "2025-02-04T01:27:17.783760Z"
    },
    "collapsed": false,
    "jupyter": {
     "outputs_hidden": false
    }
   },
   "outputs": [],
   "source": [
    "domesticity_table.to_csv(r'/Users/.../Domestic_Space_Project/Results/Ground_Truth_Domesticity_Predictions_big_table.csv')"
   ]
  },
  {
   "cell_type": "markdown",
   "id": "0bdd5e90-b518-414d-8aea-46e7a663e12f",
   "metadata": {},
   "source": [
    "# Classify unseen data for domesticity"
   ]
  },
  {
   "cell_type": "code",
   "execution_count": 26,
   "id": "a15daab6d2307369",
   "metadata": {
    "ExecuteTime": {
     "end_time": "2025-02-03T20:39:18.213677Z",
     "start_time": "2025-02-03T20:39:18.195811Z"
    },
    "collapsed": false,
    "jupyter": {
     "outputs_hidden": false
    }
   },
   "outputs": [],
   "source": [
    "raw_data = pd.read_excel('/Users/.../Domestic_Space_Project/Data_Preparation_Chadwyck/sample_50_texts/74.xlsx')\n",
    "fortrash_domestic_text = raw_data['Passage'].tolist()"
   ]
  },
  {
   "cell_type": "code",
   "execution_count": 27,
   "id": "1530551b10835972",
   "metadata": {
    "ExecuteTime": {
     "end_time": "2025-02-03T20:39:18.662563Z",
     "start_time": "2025-02-03T20:39:18.659375Z"
    },
    "collapsed": false,
    "jupyter": {
     "outputs_hidden": false
    }
   },
   "outputs": [
    {
     "data": {
      "text/html": [
       "<div>\n",
       "<style scoped>\n",
       "    .dataframe tbody tr th:only-of-type {\n",
       "        vertical-align: middle;\n",
       "    }\n",
       "\n",
       "    .dataframe tbody tr th {\n",
       "        vertical-align: top;\n",
       "    }\n",
       "\n",
       "    .dataframe thead th {\n",
       "        text-align: right;\n",
       "    }\n",
       "</style>\n",
       "<table border=\"1\" class=\"dataframe\">\n",
       "  <thead>\n",
       "    <tr style=\"text-align: right;\">\n",
       "      <th></th>\n",
       "      <th>Passage</th>\n",
       "      <th>Tag</th>\n",
       "    </tr>\n",
       "  </thead>\n",
       "  <tbody>\n",
       "    <tr>\n",
       "      <th>0</th>\n",
       "      <td>THE\\n          \\n          MIDNIGHT ASSASSIN:\\...</td>\n",
       "      <td>no</td>\n",
       "    </tr>\n",
       "    <tr>\n",
       "      <th>1</th>\n",
       "      <td>Nottingham. „_J\\n          \\n\\n          »\\n  ...</td>\n",
       "      <td>no</td>\n",
       "    </tr>\n",
       "    <tr>\n",
       "      <th>2</th>\n",
       "      <td>After regarding the simplicity and solemnity o...</td>\n",
       "      <td>no</td>\n",
       "    </tr>\n",
       "    <tr>\n",
       "      <th>3</th>\n",
       "      <td>\" I thought confessions were never divulged by...</td>\n",
       "      <td>no</td>\n",
       "    </tr>\n",
       "    <tr>\n",
       "      <th>4</th>\n",
       "      <td>The melody\\n          \\n          of her voice...</td>\n",
       "      <td>no</td>\n",
       "    </tr>\n",
       "    <tr>\n",
       "      <th>...</th>\n",
       "      <td>...</td>\n",
       "      <td>...</td>\n",
       "    </tr>\n",
       "    <tr>\n",
       "      <th>215</th>\n",
       "      <td>*' thns, and this villain Xuneni, my agent, is...</td>\n",
       "      <td>no</td>\n",
       "    </tr>\n",
       "    <tr>\n",
       "      <th>216</th>\n",
       "      <td>Wlien the physician entered, and. beheld the C...</td>\n",
       "      <td>no</td>\n",
       "    </tr>\n",
       "    <tr>\n",
       "      <th>217</th>\n",
       "      <td>He waited\\n          \\n\\n          '.. «]ttr a...</td>\n",
       "      <td>no</td>\n",
       "    </tr>\n",
       "    <tr>\n",
       "      <th>218</th>\n",
       "      <td>himself at the grate of the convent of Delia P...</td>\n",
       "      <td>no</td>\n",
       "    </tr>\n",
       "    <tr>\n",
       "      <th>219</th>\n",
       "      <td>supported\\n          \\n\\n          by the pres...</td>\n",
       "      <td>no</td>\n",
       "    </tr>\n",
       "  </tbody>\n",
       "</table>\n",
       "<p>220 rows × 2 columns</p>\n",
       "</div>"
      ],
      "text/plain": [
       "                                               Passage Tag\n",
       "0    THE\\n          \\n          MIDNIGHT ASSASSIN:\\...  no\n",
       "1    Nottingham. „_J\\n          \\n\\n          »\\n  ...  no\n",
       "2    After regarding the simplicity and solemnity o...  no\n",
       "3    \" I thought confessions were never divulged by...  no\n",
       "4    The melody\\n          \\n          of her voice...  no\n",
       "..                                                 ...  ..\n",
       "215  *' thns, and this villain Xuneni, my agent, is...  no\n",
       "216  Wlien the physician entered, and. beheld the C...  no\n",
       "217  He waited\\n          \\n\\n          '.. «]ttr a...  no\n",
       "218  himself at the grate of the convent of Delia P...  no\n",
       "219  supported\\n          \\n\\n          by the pres...  no\n",
       "\n",
       "[220 rows x 2 columns]"
      ]
     },
     "execution_count": 27,
     "metadata": {},
     "output_type": "execute_result"
    }
   ],
   "source": [
    "raw_data"
   ]
  },
  {
   "cell_type": "code",
   "execution_count": 11,
   "id": "13d36d45",
   "metadata": {
    "ExecuteTime": {
     "end_time": "2025-02-03T20:38:17.541122Z",
     "start_time": "2025-02-03T20:38:17.530143Z"
    }
   },
   "outputs": [],
   "source": [
    "# call the trash detection model\n",
    "trash_perc_probability=model_trash.predict(fortrash_domestic_text)"
   ]
  },
  {
   "cell_type": "code",
   "execution_count": 26,
   "id": "0fdf6e69",
   "metadata": {},
   "outputs": [],
   "source": [
    "prob_df = pd.DataFrame(trash_perc_probability, columns=['not_trash', 'trash'])\n",
    "combined_table=pd.concat([raw_data, prob_df], axis=1)"
   ]
  },
  {
   "cell_type": "code",
   "execution_count": 47,
   "id": "cde0ed92",
   "metadata": {},
   "outputs": [
    {
     "data": {
      "text/plain": [
       "(3626412, 2)"
      ]
     },
     "execution_count": 47,
     "metadata": {},
     "output_type": "execute_result"
    }
   ],
   "source": [
    "prob_df.shape"
   ]
  },
  {
   "cell_type": "code",
   "execution_count": 45,
   "id": "aae0e111",
   "metadata": {},
   "outputs": [
    {
     "data": {
      "text/plain": [
       "(3626412, 2)"
      ]
     },
     "execution_count": 45,
     "metadata": {},
     "output_type": "execute_result"
    }
   ],
   "source": [
    "raw_data.shape"
   ]
  },
  {
   "cell_type": "code",
   "execution_count": 50,
   "id": "5b9e7e58",
   "metadata": {},
   "outputs": [],
   "source": [
    "test_combine=pd.concat([raw_data, prob_df], axis=1)"
   ]
  },
  {
   "cell_type": "code",
   "execution_count": 51,
   "id": "cf435494",
   "metadata": {},
   "outputs": [
    {
     "data": {
      "text/plain": [
       "(3626412, 4)"
      ]
     },
     "execution_count": 51,
     "metadata": {},
     "output_type": "execute_result"
    }
   ],
   "source": [
    "test_combine.shape"
   ]
  },
  {
   "cell_type": "code",
   "execution_count": 67,
   "id": "75aa2229",
   "metadata": {},
   "outputs": [],
   "source": [
    "test_combine.to_csv(r'/Users/.../Domestic_Space_Project/Results/SequentialTrashDetection_AllPassages.csv')"
   ]
  },
  {
   "cell_type": "code",
   "execution_count": 55,
   "id": "b75036ad",
   "metadata": {},
   "outputs": [],
   "source": [
    "#filter the \"not trash\" passages and export them to a new non trash dataframe\n",
    "new_nontrash_df = combined_table.loc[test_combine['not_trash'] > 0.69]"
   ]
  },
  {
   "cell_type": "code",
   "execution_count": 56,
   "id": "68a982dd",
   "metadata": {},
   "outputs": [
    {
     "data": {
      "text/plain": [
       "(3482363, 6)"
      ]
     },
     "execution_count": 56,
     "metadata": {},
     "output_type": "execute_result"
    }
   ],
   "source": [
    "new_nontrash_df.shape"
   ]
  },
  {
   "cell_type": "code",
   "execution_count": 34,
   "id": "7a5a7283",
   "metadata": {},
   "outputs": [
    {
     "data": {
      "text/plain": [
       "(3482363, 4)"
      ]
     },
     "execution_count": 34,
     "metadata": {},
     "output_type": "execute_result"
    }
   ],
   "source": [
    "nontrash_df.shape"
   ]
  },
  {
   "cell_type": "code",
   "execution_count": 30,
   "id": "6368f90f",
   "metadata": {},
   "outputs": [
    {
     "name": "stdout",
     "output_type": "stream",
     "text": [
      "108824/108824 [==============================] - 208412s 2s/step\n"
     ]
    }
   ],
   "source": [
    "toclass_domestic_text = nontrash_df['Passage'].tolist()\n",
    "perc_probability_domestic=model_domestic.predict(toclass_domestic_text)"
   ]
  },
  {
   "cell_type": "code",
   "execution_count": 13,
   "id": "3a1488f867b3a5ff",
   "metadata": {
    "ExecuteTime": {
     "end_time": "2025-02-03T20:40:07.286756Z",
     "start_time": "2025-02-03T20:40:07.277185Z"
    },
    "collapsed": false,
    "jupyter": {
     "outputs_hidden": false
    }
   },
   "outputs": [],
   "source": [
    "#predict the passages with trash passages filtered out\n",
    "toclass_domestic_text = nontrash_df['Passage'].tolist()\n",
    "perc_probability_domestic=model_domestic.predict(toclass_domestic_text)"
   ]
  },
  {
   "cell_type": "code",
   "execution_count": 37,
   "id": "fe16e655",
   "metadata": {},
   "outputs": [
    {
     "data": {
      "text/plain": [
       "(3482363, 2)"
      ]
     },
     "execution_count": 37,
     "metadata": {},
     "output_type": "execute_result"
    }
   ],
   "source": [
    "perc_probability_domestic.shape"
   ]
  },
  {
   "cell_type": "code",
   "execution_count": 39,
   "id": "dc395f73",
   "metadata": {},
   "outputs": [],
   "source": [
    "prob_domestic_df = pd.DataFrame(perc_probability_domestic, columns=['other', 'domestic'])\n",
    "full_domestic_class=pd.concat([nontrash_df, prob_domestic_df], axis=1)"
   ]
  },
  {
   "cell_type": "code",
   "execution_count": 57,
   "id": "70cad144",
   "metadata": {},
   "outputs": [
    {
     "data": {
      "text/plain": [
       "(3482363, 4)"
      ]
     },
     "execution_count": 57,
     "metadata": {},
     "output_type": "execute_result"
    }
   ],
   "source": [
    "nontrash_df.shape"
   ]
  },
  {
   "cell_type": "code",
   "execution_count": 58,
   "id": "ca31ede6",
   "metadata": {},
   "outputs": [
    {
     "data": {
      "text/plain": [
       "(3482363, 2)"
      ]
     },
     "execution_count": 58,
     "metadata": {},
     "output_type": "execute_result"
    }
   ],
   "source": [
    "prob_domestic_df.shape"
   ]
  },
  {
   "cell_type": "code",
   "execution_count": 65,
   "id": "79a2f9a0",
   "metadata": {},
   "outputs": [],
   "source": [
    "#store the nontrash dataframe with predictions \n",
    "nontrash_df.to_csv(r'/Users/.../Domestic_Space_Project/Results/Sequential_JustNonTrashPassages.csv')"
   ]
  },
  {
   "cell_type": "code",
   "execution_count": 66,
   "id": "fc5eed7e",
   "metadata": {},
   "outputs": [],
   "source": [
    "prob_domestic_df.to_csv(r'/Users/.../Domestic_Space_Project/Results/Sequential_DomesticProbabilitiesOnly.csv')"
   ]
  },
  {
   "cell_type": "code",
   "execution_count": 43,
   "id": "c80ece7b",
   "metadata": {},
   "outputs": [
    {
     "data": {
      "text/plain": [
       "(3482363, 4)"
      ]
     },
     "execution_count": 43,
     "metadata": {},
     "output_type": "execute_result"
    }
   ],
   "source": [
    "#prob_domestic_df.shape\n",
    "nontrash_df.shape\n",
    "#full_domestic_class.shape"
   ]
  },
  {
   "cell_type": "code",
   "execution_count": 32,
   "id": "843bd462",
   "metadata": {},
   "outputs": [],
   "source": [
    "#store the updated and combined dataframe\n",
    "combined_table.to_csv(r'/Users/.../Domestic_Space_Project/Results/SequentialClassifiedDomesticSpace_AllPassages.csv')"
   ]
  },
  {
   "cell_type": "markdown",
   "id": "777763765b8d9b8",
   "metadata": {
    "collapsed": false,
    "jupyter": {
     "outputs_hidden": false
    }
   },
   "source": [
    "## End of Notebook."
   ]
  }
 ],
 "metadata": {
  "kernelspec": {
   "display_name": "Python 3 (ipykernel)",
   "language": "python",
   "name": "python3"
  },
  "language_info": {
   "codemirror_mode": {
    "name": "ipython",
    "version": 3
   },
   "file_extension": ".py",
   "mimetype": "text/x-python",
   "name": "python",
   "nbconvert_exporter": "python",
   "pygments_lexer": "ipython3",
   "version": "3.11.8"
  }
 },
 "nbformat": 4,
 "nbformat_minor": 5
}
